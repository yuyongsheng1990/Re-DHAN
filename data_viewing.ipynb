{
 "cells": [
  {
   "cell_type": "markdown",
   "id": "a2c03d57",
   "metadata": {},
   "source": [
    "## 查看数据分布"
   ]
  },
  {
   "cell_type": "code",
   "execution_count": 3,
   "id": "7b14ce0c",
   "metadata": {
    "ExecuteTime": {
     "end_time": "2023-07-28T09:38:42.690374Z",
     "start_time": "2023-07-28T09:38:42.676411Z"
    }
   },
   "outputs": [],
   "source": [
    "# 查看 twitter data 数据格式和分布:frequency、numbers、shape etc."
   ]
  },
  {
   "cell_type": "code",
   "execution_count": 4,
   "id": "1c4d3492",
   "metadata": {
    "ExecuteTime": {
     "end_time": "2023-07-28T09:38:43.566832Z",
     "start_time": "2023-07-28T09:38:43.087058Z"
    }
   },
   "outputs": [],
   "source": [
    "import numpy as np\n",
    "import pandas as pd\n",
    "import datetime"
   ]
  },
  {
   "cell_type": "markdown",
   "id": "67a8c181",
   "metadata": {},
   "source": [
    "### data_path"
   ]
  },
  {
   "cell_type": "code",
   "execution_count": 5,
   "id": "5992b4c6",
   "metadata": {
    "ExecuteTime": {
     "end_time": "2023-07-28T09:38:43.955884Z",
     "start_time": "2023-07-28T09:38:43.950899Z"
    }
   },
   "outputs": [],
   "source": [
    "load_path = './data/raw dataset'  # 相对路径，..表示上上级路径\n",
    "result_path = './result'"
   ]
  },
  {
   "cell_type": "code",
   "execution_count": 6,
   "id": "97926750",
   "metadata": {
    "ExecuteTime": {
     "end_time": "2023-07-28T09:38:45.672801Z",
     "start_time": "2023-07-28T09:38:44.199242Z"
    }
   },
   "outputs": [
    {
     "name": "stdout",
     "output_type": "stream",
     "text": [
      "./data/raw dataset/68841_tweets_multiclasses_filtered_0722_part1.npy\n",
      "loaded data.\n",
      "Data converted to dataframe.\n"
     ]
    }
   ],
   "source": [
    "# load dataset\n",
    "p_part1 = load_path + '/68841_tweets_multiclasses_filtered_0722_part1.npy'\n",
    "print(p_part1)\n",
    "p_part2 = load_path + '/68841_tweets_multiclasses_filtered_0722_part2.npy'\n",
    "# Python 中的 pickle 用于在保存到磁盘文件或从磁盘文件读取之前，对对象进行序列化和反序列化\n",
    "df_np_part1 = np.load(p_part1, allow_pickle=True)  # allow_pickle, Allow loading pickled object arrays stored in npy files\n",
    "df_np_part2 = np.load(p_part2, allow_pickle=True)\n",
    "df = np.concatenate((df_np_part1, df_np_part2),axis=0) # 按行拼接\n",
    "print('loaded data.')\n",
    "df = pd.DataFrame(data=df, columns=['event_id','tweet_id','text','user_id','created_at','user_loc','place_type',\n",
    "                                      'place_full_name','place_country_code','hashtags','user_mentions','image_urls',\n",
    "                                      'entities','words','filtered_words','sampled_words'])\n",
    "print('Data converted to dataframe.')"
   ]
  },
  {
   "cell_type": "code",
   "execution_count": 7,
   "id": "5d78cfc5",
   "metadata": {
    "ExecuteTime": {
     "end_time": "2023-07-28T09:38:45.986172Z",
     "start_time": "2023-07-28T09:38:45.674797Z"
    }
   },
   "outputs": [],
   "source": [
    "# sort date by time\n",
    "df = df.sort_values(by='created_at').reset_index(drop=True)\n",
    "# append date\n",
    "df['date'] = [d.date() for d in df['created_at']]\n",
    "# -------------------------------------------------------------------\n",
    "init_day = df.loc[0, 'date']"
   ]
  },
  {
   "cell_type": "code",
   "execution_count": 9,
   "id": "256c4d4a",
   "metadata": {
    "ExecuteTime": {
     "end_time": "2023-07-28T09:39:12.731299Z",
     "start_time": "2023-07-28T09:39:12.708361Z"
    }
   },
   "outputs": [
    {
     "name": "stdout",
     "output_type": "stream",
     "text": [
      "total message numbers: (68841, 17)\n",
      "total number of event classes: 503\n"
     ]
    }
   ],
   "source": [
    "print('total message numbers:', df.shape)   \n",
    "print('total number of event classes:', df.event_id.nunique()) "
   ]
  },
  {
   "cell_type": "code",
   "execution_count": 10,
   "id": "98bf5b91",
   "metadata": {
    "ExecuteTime": {
     "end_time": "2023-07-28T09:39:23.426788Z",
     "start_time": "2023-07-28T09:39:23.357956Z"
    }
   },
   "outputs": [
    {
     "data": {
      "text/html": [
       "<div>\n",
       "<style scoped>\n",
       "    .dataframe tbody tr th:only-of-type {\n",
       "        vertical-align: middle;\n",
       "    }\n",
       "\n",
       "    .dataframe tbody tr th {\n",
       "        vertical-align: top;\n",
       "    }\n",
       "\n",
       "    .dataframe thead th {\n",
       "        text-align: right;\n",
       "    }\n",
       "</style>\n",
       "<table border=\"1\" class=\"dataframe\">\n",
       "  <thead>\n",
       "    <tr style=\"text-align: right;\">\n",
       "      <th></th>\n",
       "      <th>event_id</th>\n",
       "      <th>tweet_id</th>\n",
       "      <th>text</th>\n",
       "      <th>user_id</th>\n",
       "      <th>created_at</th>\n",
       "      <th>user_loc</th>\n",
       "      <th>place_type</th>\n",
       "      <th>place_full_name</th>\n",
       "      <th>place_country_code</th>\n",
       "      <th>hashtags</th>\n",
       "      <th>user_mentions</th>\n",
       "      <th>image_urls</th>\n",
       "      <th>entities</th>\n",
       "      <th>words</th>\n",
       "      <th>filtered_words</th>\n",
       "      <th>sampled_words</th>\n",
       "      <th>date</th>\n",
       "    </tr>\n",
       "  </thead>\n",
       "  <tbody>\n",
       "    <tr>\n",
       "      <th>0</th>\n",
       "      <td>394</td>\n",
       "      <td>255819992157786112</td>\n",
       "      <td>HipHop awards bout to be live!!</td>\n",
       "      <td>250870763</td>\n",
       "      <td>2012-10-10 00:00:13</td>\n",
       "      <td></td>\n",
       "      <td></td>\n",
       "      <td></td>\n",
       "      <td></td>\n",
       "      <td>[]</td>\n",
       "      <td>[]</td>\n",
       "      <td>[]</td>\n",
       "      <td>[]</td>\n",
       "      <td>[award, live, bout, hiphop]</td>\n",
       "      <td>[award, live, bout, hiphop]</td>\n",
       "      <td>[]</td>\n",
       "      <td>2012-10-10</td>\n",
       "    </tr>\n",
       "    <tr>\n",
       "      <th>1</th>\n",
       "      <td>394</td>\n",
       "      <td>255820118095978496</td>\n",
       "      <td>HIPHOP AWARDS TIME!</td>\n",
       "      <td>28026779</td>\n",
       "      <td>2012-10-10 00:00:43</td>\n",
       "      <td>SoundCloud/RaRaSupaStar</td>\n",
       "      <td></td>\n",
       "      <td></td>\n",
       "      <td></td>\n",
       "      <td>[]</td>\n",
       "      <td>[]</td>\n",
       "      <td>[]</td>\n",
       "      <td>[]</td>\n",
       "      <td>[HIPHOP, AWARDS, time]</td>\n",
       "      <td>[hiphop, awards, time]</td>\n",
       "      <td>[]</td>\n",
       "      <td>2012-10-10</td>\n",
       "    </tr>\n",
       "    <tr>\n",
       "      <th>2</th>\n",
       "      <td>394</td>\n",
       "      <td>255820147489636353</td>\n",
       "      <td>Bet hiphop awards</td>\n",
       "      <td>566825483</td>\n",
       "      <td>2012-10-10 00:00:50</td>\n",
       "      <td></td>\n",
       "      <td></td>\n",
       "      <td></td>\n",
       "      <td></td>\n",
       "      <td>[]</td>\n",
       "      <td>[]</td>\n",
       "      <td>[]</td>\n",
       "      <td>[(Bet, GPE)]</td>\n",
       "      <td>[award, bet, hiphop]</td>\n",
       "      <td>[award, bet, hiphop]</td>\n",
       "      <td>[]</td>\n",
       "      <td>2012-10-10</td>\n",
       "    </tr>\n",
       "    <tr>\n",
       "      <th>3</th>\n",
       "      <td>394</td>\n",
       "      <td>255820164023595008</td>\n",
       "      <td>BET HipHop awards is on!!!</td>\n",
       "      <td>197834311</td>\n",
       "      <td>2012-10-10 00:00:54</td>\n",
       "      <td>Saint Lucia ☀️🌴🇱🇨</td>\n",
       "      <td></td>\n",
       "      <td></td>\n",
       "      <td></td>\n",
       "      <td>[]</td>\n",
       "      <td>[]</td>\n",
       "      <td>[]</td>\n",
       "      <td>[]</td>\n",
       "      <td>[HipHop, BET, award]</td>\n",
       "      <td>[hiphop, bet, award]</td>\n",
       "      <td>[]</td>\n",
       "      <td>2012-10-10</td>\n",
       "    </tr>\n",
       "    <tr>\n",
       "      <th>4</th>\n",
       "      <td>394</td>\n",
       "      <td>255820180884701184</td>\n",
       "      <td>Watchin Da BET Hiphop Awards</td>\n",
       "      <td>439490861</td>\n",
       "      <td>2012-10-10 00:00:58</td>\n",
       "      <td>Michigan, USA</td>\n",
       "      <td></td>\n",
       "      <td></td>\n",
       "      <td></td>\n",
       "      <td>[]</td>\n",
       "      <td>[]</td>\n",
       "      <td>[]</td>\n",
       "      <td>[]</td>\n",
       "      <td>[Hiphop, Watchin, Awards, Da, BET]</td>\n",
       "      <td>[hiphop, watchin, awards, da, bet]</td>\n",
       "      <td>[]</td>\n",
       "      <td>2012-10-10</td>\n",
       "    </tr>\n",
       "    <tr>\n",
       "      <th>5</th>\n",
       "      <td>394</td>\n",
       "      <td>255820336002646016</td>\n",
       "      <td>Tuned Into The Hiphop Awards</td>\n",
       "      <td>197259280</td>\n",
       "      <td>2012-10-10 00:01:35</td>\n",
       "      <td></td>\n",
       "      <td></td>\n",
       "      <td></td>\n",
       "      <td></td>\n",
       "      <td>[]</td>\n",
       "      <td>[]</td>\n",
       "      <td>[]</td>\n",
       "      <td>[]</td>\n",
       "      <td>[Awards, Hiphop, tune]</td>\n",
       "      <td>[awards, hiphop, tune]</td>\n",
       "      <td>[]</td>\n",
       "      <td>2012-10-10</td>\n",
       "    </tr>\n",
       "    <tr>\n",
       "      <th>6</th>\n",
       "      <td>394</td>\n",
       "      <td>255820419943247872</td>\n",
       "      <td>Bout 2 tune into the hiphop awards</td>\n",
       "      <td>103100887</td>\n",
       "      <td>2012-10-10 00:01:55</td>\n",
       "      <td></td>\n",
       "      <td></td>\n",
       "      <td></td>\n",
       "      <td></td>\n",
       "      <td>[]</td>\n",
       "      <td>[]</td>\n",
       "      <td>[]</td>\n",
       "      <td>[(Bout 2, PERSON)]</td>\n",
       "      <td>[award, Bout, hiphop, tune]</td>\n",
       "      <td>[award, bout, hiphop, tune]</td>\n",
       "      <td>[]</td>\n",
       "      <td>2012-10-10</td>\n",
       "    </tr>\n",
       "    <tr>\n",
       "      <th>7</th>\n",
       "      <td>394</td>\n",
       "      <td>255820487307964416</td>\n",
       "      <td>Hiphop awards on finna tune in</td>\n",
       "      <td>40153735</td>\n",
       "      <td>2012-10-10 00:02:11</td>\n",
       "      <td></td>\n",
       "      <td></td>\n",
       "      <td></td>\n",
       "      <td></td>\n",
       "      <td>[]</td>\n",
       "      <td>[]</td>\n",
       "      <td>[]</td>\n",
       "      <td>[]</td>\n",
       "      <td>[award, finna, Hiphop, tune]</td>\n",
       "      <td>[award, finna, hiphop, tune]</td>\n",
       "      <td>[]</td>\n",
       "      <td>2012-10-10</td>\n",
       "    </tr>\n",
       "    <tr>\n",
       "      <th>8</th>\n",
       "      <td>487</td>\n",
       "      <td>255820516613578754</td>\n",
       "      <td>Ready Too See My Nigga 2 Chainz Perform!</td>\n",
       "      <td>437229768</td>\n",
       "      <td>2012-10-10 00:02:18</td>\n",
       "      <td>Lafayette, AL</td>\n",
       "      <td></td>\n",
       "      <td></td>\n",
       "      <td></td>\n",
       "      <td>[]</td>\n",
       "      <td>[]</td>\n",
       "      <td>[]</td>\n",
       "      <td>[]</td>\n",
       "      <td>[Perform, Ready, see, Nigga, Chainz]</td>\n",
       "      <td>[perform, ready, see, nigga, chainz]</td>\n",
       "      <td>[]</td>\n",
       "      <td>2012-10-10</td>\n",
       "    </tr>\n",
       "    <tr>\n",
       "      <th>9</th>\n",
       "      <td>394</td>\n",
       "      <td>255820562629263360</td>\n",
       "      <td>#workhard !!!\\n#wiz  \\n#BET HipHop Awards !!</td>\n",
       "      <td>600320911</td>\n",
       "      <td>2012-10-10 00:02:29</td>\n",
       "      <td>Philadelphia</td>\n",
       "      <td></td>\n",
       "      <td></td>\n",
       "      <td></td>\n",
       "      <td>[workhard, wiz, BET]</td>\n",
       "      <td>[]</td>\n",
       "      <td>[]</td>\n",
       "      <td>[(#, CARDINAL), (#wiz, MONEY)]</td>\n",
       "      <td>[award, hiphop]</td>\n",
       "      <td>[award, hiphop]</td>\n",
       "      <td>[]</td>\n",
       "      <td>2012-10-10</td>\n",
       "    </tr>\n",
       "  </tbody>\n",
       "</table>\n",
       "</div>"
      ],
      "text/plain": [
       "  event_id            tweet_id                                          text  \\\n",
       "0      394  255819992157786112               HipHop awards bout to be live!!   \n",
       "1      394  255820118095978496                           HIPHOP AWARDS TIME!   \n",
       "2      394  255820147489636353                             Bet hiphop awards   \n",
       "3      394  255820164023595008                    BET HipHop awards is on!!!   \n",
       "4      394  255820180884701184                  Watchin Da BET Hiphop Awards   \n",
       "5      394  255820336002646016                  Tuned Into The Hiphop Awards   \n",
       "6      394  255820419943247872            Bout 2 tune into the hiphop awards   \n",
       "7      394  255820487307964416                Hiphop awards on finna tune in   \n",
       "8      487  255820516613578754      Ready Too See My Nigga 2 Chainz Perform!   \n",
       "9      394  255820562629263360  #workhard !!!\\n#wiz  \\n#BET HipHop Awards !!   \n",
       "\n",
       "     user_id          created_at                 user_loc place_type  \\\n",
       "0  250870763 2012-10-10 00:00:13                                       \n",
       "1   28026779 2012-10-10 00:00:43  SoundCloud/RaRaSupaStar              \n",
       "2  566825483 2012-10-10 00:00:50                                       \n",
       "3  197834311 2012-10-10 00:00:54        Saint Lucia ☀️🌴🇱🇨              \n",
       "4  439490861 2012-10-10 00:00:58            Michigan, USA              \n",
       "5  197259280 2012-10-10 00:01:35                                       \n",
       "6  103100887 2012-10-10 00:01:55                                       \n",
       "7   40153735 2012-10-10 00:02:11                                       \n",
       "8  437229768 2012-10-10 00:02:18            Lafayette, AL              \n",
       "9  600320911 2012-10-10 00:02:29             Philadelphia              \n",
       "\n",
       "  place_full_name place_country_code              hashtags user_mentions  \\\n",
       "0                                                       []            []   \n",
       "1                                                       []            []   \n",
       "2                                                       []            []   \n",
       "3                                                       []            []   \n",
       "4                                                       []            []   \n",
       "5                                                       []            []   \n",
       "6                                                       []            []   \n",
       "7                                                       []            []   \n",
       "8                                                       []            []   \n",
       "9                                     [workhard, wiz, BET]            []   \n",
       "\n",
       "  image_urls                        entities  \\\n",
       "0         []                              []   \n",
       "1         []                              []   \n",
       "2         []                    [(Bet, GPE)]   \n",
       "3         []                              []   \n",
       "4         []                              []   \n",
       "5         []                              []   \n",
       "6         []              [(Bout 2, PERSON)]   \n",
       "7         []                              []   \n",
       "8         []                              []   \n",
       "9         []  [(#, CARDINAL), (#wiz, MONEY)]   \n",
       "\n",
       "                                  words                        filtered_words  \\\n",
       "0           [award, live, bout, hiphop]           [award, live, bout, hiphop]   \n",
       "1                [HIPHOP, AWARDS, time]                [hiphop, awards, time]   \n",
       "2                  [award, bet, hiphop]                  [award, bet, hiphop]   \n",
       "3                  [HipHop, BET, award]                  [hiphop, bet, award]   \n",
       "4    [Hiphop, Watchin, Awards, Da, BET]    [hiphop, watchin, awards, da, bet]   \n",
       "5                [Awards, Hiphop, tune]                [awards, hiphop, tune]   \n",
       "6           [award, Bout, hiphop, tune]           [award, bout, hiphop, tune]   \n",
       "7          [award, finna, Hiphop, tune]          [award, finna, hiphop, tune]   \n",
       "8  [Perform, Ready, see, Nigga, Chainz]  [perform, ready, see, nigga, chainz]   \n",
       "9                       [award, hiphop]                       [award, hiphop]   \n",
       "\n",
       "  sampled_words        date  \n",
       "0            []  2012-10-10  \n",
       "1            []  2012-10-10  \n",
       "2            []  2012-10-10  \n",
       "3            []  2012-10-10  \n",
       "4            []  2012-10-10  \n",
       "5            []  2012-10-10  \n",
       "6            []  2012-10-10  \n",
       "7            []  2012-10-10  \n",
       "8            []  2012-10-10  \n",
       "9            []  2012-10-10  "
      ]
     },
     "execution_count": 10,
     "metadata": {},
     "output_type": "execute_result"
    }
   ],
   "source": [
    "df.head(10)"
   ]
  },
  {
   "cell_type": "markdown",
   "id": "1b33dbee",
   "metadata": {
    "ExecuteTime": {
     "end_time": "2023-07-28T09:35:57.506262Z",
     "start_time": "2023-07-28T09:35:57.491303Z"
    }
   },
   "source": [
    "## data_preprocess"
   ]
  },
  {
   "cell_type": "code",
   "execution_count": 11,
   "id": "b2932724",
   "metadata": {
    "ExecuteTime": {
     "end_time": "2023-07-28T09:39:44.229382Z",
     "start_time": "2023-07-28T09:39:43.725222Z"
    }
   },
   "outputs": [],
   "source": [
    "# remove repeated messages and those associated with multiple event classes\n",
    "# sort date by time\n",
    "df = df.sort_values(by='created_at').reset_index(drop=True)\n",
    "# append date\n",
    "df['date'] = [d.date() for d in df['created_at']]"
   ]
  },
  {
   "cell_type": "code",
   "execution_count": 12,
   "id": "11a39da2",
   "metadata": {
    "ExecuteTime": {
     "end_time": "2023-07-28T09:47:25.434051Z",
     "start_time": "2023-07-28T09:47:25.325063Z"
    }
   },
   "outputs": [],
   "source": [
    "# remove repeated messages\n",
    "df_duplicates = df.drop_duplicates(subset=['tweet_id'], keep='first')"
   ]
  },
  {
   "cell_type": "code",
   "execution_count": 13,
   "id": "0c6075c5",
   "metadata": {
    "ExecuteTime": {
     "end_time": "2023-07-28T09:48:05.896943Z",
     "start_time": "2023-07-28T09:48:05.876029Z"
    }
   },
   "outputs": [
    {
     "name": "stdout",
     "output_type": "stream",
     "text": [
      "duplicated total message numbers: (68841, 17)\n",
      "duplicated total number of event classes: 503\n"
     ]
    }
   ],
   "source": [
    "print('duplicated total message numbers:', df_duplicates.shape)   \n",
    "print('duplicated total number of event classes:', df_duplicates.event_id.nunique()) "
   ]
  },
  {
   "cell_type": "code",
   "execution_count": 18,
   "id": "aa709b35",
   "metadata": {
    "ExecuteTime": {
     "end_time": "2023-07-28T09:49:31.702833Z",
     "start_time": "2023-07-28T09:49:31.689866Z"
    }
   },
   "outputs": [
    {
     "data": {
      "text/plain": [
       "0    255819992157786112\n",
       "1    255820118095978496\n",
       "2    255820147489636353\n",
       "3    255820164023595008\n",
       "4    255820180884701184\n",
       "Name: tweet_id, dtype: object"
      ]
     },
     "execution_count": 18,
     "metadata": {},
     "output_type": "execute_result"
    }
   ],
   "source": [
    "df_duplicates.tweet_id.head()"
   ]
  },
  {
   "cell_type": "markdown",
   "id": "c4cf9045",
   "metadata": {
    "ExecuteTime": {
     "end_time": "2023-07-20T00:50:49.744673Z",
     "start_time": "2023-07-20T00:50:49.739688Z"
    }
   },
   "source": [
    "## df_extract"
   ]
  },
  {
   "cell_type": "code",
   "execution_count": 24,
   "id": "d160cc14",
   "metadata": {
    "ExecuteTime": {
     "end_time": "2023-07-28T09:55:34.739225Z",
     "start_time": "2023-07-28T09:55:34.725276Z"
    }
   },
   "outputs": [
    {
     "data": {
      "text/plain": [
       "(68841, 17)"
      ]
     },
     "execution_count": 24,
     "metadata": {},
     "output_type": "execute_result"
    }
   ],
   "source": [
    "df.shape"
   ]
  },
  {
   "cell_type": "code",
   "execution_count": 25,
   "id": "5c5e649c",
   "metadata": {
    "ExecuteTime": {
     "end_time": "2023-07-28T09:55:35.004341Z",
     "start_time": "2023-07-28T09:55:34.979383Z"
    }
   },
   "outputs": [
    {
     "data": {
      "text/html": [
       "<div>\n",
       "<style scoped>\n",
       "    .dataframe tbody tr th:only-of-type {\n",
       "        vertical-align: middle;\n",
       "    }\n",
       "\n",
       "    .dataframe tbody tr th {\n",
       "        vertical-align: top;\n",
       "    }\n",
       "\n",
       "    .dataframe thead th {\n",
       "        text-align: right;\n",
       "    }\n",
       "</style>\n",
       "<table border=\"1\" class=\"dataframe\">\n",
       "  <thead>\n",
       "    <tr style=\"text-align: right;\">\n",
       "      <th></th>\n",
       "      <th>index</th>\n",
       "      <th>event_id</th>\n",
       "    </tr>\n",
       "  </thead>\n",
       "  <tbody>\n",
       "    <tr>\n",
       "      <th>0</th>\n",
       "      <td>8</td>\n",
       "      <td>7133</td>\n",
       "    </tr>\n",
       "    <tr>\n",
       "      <th>1</th>\n",
       "      <td>1</td>\n",
       "      <td>3358</td>\n",
       "    </tr>\n",
       "    <tr>\n",
       "      <th>2</th>\n",
       "      <td>11</td>\n",
       "      <td>2859</td>\n",
       "    </tr>\n",
       "    <tr>\n",
       "      <th>3</th>\n",
       "      <td>157</td>\n",
       "      <td>1550</td>\n",
       "    </tr>\n",
       "    <tr>\n",
       "      <th>4</th>\n",
       "      <td>22</td>\n",
       "      <td>1399</td>\n",
       "    </tr>\n",
       "    <tr>\n",
       "      <th>...</th>\n",
       "      <td>...</td>\n",
       "      <td>...</td>\n",
       "    </tr>\n",
       "    <tr>\n",
       "      <th>491</th>\n",
       "      <td>346</td>\n",
       "      <td>3</td>\n",
       "    </tr>\n",
       "    <tr>\n",
       "      <th>492</th>\n",
       "      <td>311</td>\n",
       "      <td>3</td>\n",
       "    </tr>\n",
       "    <tr>\n",
       "      <th>493</th>\n",
       "      <td>206</td>\n",
       "      <td>2</td>\n",
       "    </tr>\n",
       "    <tr>\n",
       "      <th>494</th>\n",
       "      <td>392</td>\n",
       "      <td>2</td>\n",
       "    </tr>\n",
       "    <tr>\n",
       "      <th>495</th>\n",
       "      <td>410</td>\n",
       "      <td>2</td>\n",
       "    </tr>\n",
       "  </tbody>\n",
       "</table>\n",
       "<p>496 rows × 2 columns</p>\n",
       "</div>"
      ],
      "text/plain": [
       "     index  event_id\n",
       "0        8      7133\n",
       "1        1      3358\n",
       "2       11      2859\n",
       "3      157      1550\n",
       "4       22      1399\n",
       "..     ...       ...\n",
       "491    346         3\n",
       "492    311         3\n",
       "493    206         2\n",
       "494    392         2\n",
       "495    410         2\n",
       "\n",
       "[496 rows x 2 columns]"
      ]
     },
     "execution_count": 25,
     "metadata": {},
     "output_type": "execute_result"
    }
   ],
   "source": [
    "df_count = df.event_id.value_counts().to_frame()\n",
    "df_count_2 = df_count[df_count.event_id >= 2].reset_index()\n",
    "df_count_2"
   ]
  },
  {
   "cell_type": "code",
   "execution_count": 26,
   "id": "49425d78",
   "metadata": {
    "ExecuteTime": {
     "end_time": "2023-07-28T09:55:35.830305Z",
     "start_time": "2023-07-28T09:55:35.760493Z"
    }
   },
   "outputs": [
    {
     "name": "stdout",
     "output_type": "stream",
     "text": [
      "(68043, 17)\n",
      "493\n"
     ]
    }
   ],
   "source": [
    "# extract and descend according to time\n",
    "df_extract = df[df.event_id.isin(df_count_2.index)]\n",
    "print(df_extract.shape)\n",
    "print(df_extract.event_id.nunique())"
   ]
  },
  {
   "cell_type": "code",
   "execution_count": 32,
   "id": "ff87cd2a",
   "metadata": {
    "ExecuteTime": {
     "end_time": "2023-07-28T10:01:57.522751Z",
     "start_time": "2023-07-28T10:01:57.477873Z"
    },
    "scrolled": true
   },
   "outputs": [
    {
     "data": {
      "text/html": [
       "<div>\n",
       "<style scoped>\n",
       "    .dataframe tbody tr th:only-of-type {\n",
       "        vertical-align: middle;\n",
       "    }\n",
       "\n",
       "    .dataframe tbody tr th {\n",
       "        vertical-align: top;\n",
       "    }\n",
       "\n",
       "    .dataframe thead th {\n",
       "        text-align: right;\n",
       "    }\n",
       "</style>\n",
       "<table border=\"1\" class=\"dataframe\">\n",
       "  <thead>\n",
       "    <tr style=\"text-align: right;\">\n",
       "      <th></th>\n",
       "      <th>event_id</th>\n",
       "      <th>tweet_id</th>\n",
       "      <th>text</th>\n",
       "      <th>user_id</th>\n",
       "      <th>created_at</th>\n",
       "      <th>user_loc</th>\n",
       "      <th>place_type</th>\n",
       "      <th>place_full_name</th>\n",
       "      <th>place_country_code</th>\n",
       "      <th>hashtags</th>\n",
       "      <th>user_mentions</th>\n",
       "      <th>image_urls</th>\n",
       "      <th>entities</th>\n",
       "      <th>words</th>\n",
       "      <th>filtered_words</th>\n",
       "      <th>sampled_words</th>\n",
       "      <th>date</th>\n",
       "    </tr>\n",
       "  </thead>\n",
       "  <tbody>\n",
       "    <tr>\n",
       "      <th>19739</th>\n",
       "      <td>8</td>\n",
       "      <td>258327573812109317</td>\n",
       "      <td>Debate comes on to tonight !!!!!! #Obama</td>\n",
       "      <td>110040608</td>\n",
       "      <td>2012-10-16 22:04:27</td>\n",
       "      <td>Southern Cali✈ATL</td>\n",
       "      <td></td>\n",
       "      <td></td>\n",
       "      <td></td>\n",
       "      <td>[Obama]</td>\n",
       "      <td>[]</td>\n",
       "      <td>[]</td>\n",
       "      <td>[(tonight, TIME), (#, CARDINAL)]</td>\n",
       "      <td>[come, tonight, debate]</td>\n",
       "      <td>[come, tonight, debate]</td>\n",
       "      <td>[]</td>\n",
       "      <td>2012-10-16</td>\n",
       "    </tr>\n",
       "    <tr>\n",
       "      <th>19741</th>\n",
       "      <td>8</td>\n",
       "      <td>258327737322844161</td>\n",
       "      <td>Debate Tonight TurnUp Tuesday @9pm. I just got of the phone Obama ! He Said \"I got this my Brother\" #2terms</td>\n",
       "      <td>30707097</td>\n",
       "      <td>2012-10-16 22:05:06</td>\n",
       "      <td>South Carolina, Conway</td>\n",
       "      <td></td>\n",
       "      <td></td>\n",
       "      <td></td>\n",
       "      <td>[2terms]</td>\n",
       "      <td>[16286578]</td>\n",
       "      <td>[]</td>\n",
       "      <td>[(Tuesday, DATE), (@9pm, PERSON), (Obama, GPE)]</td>\n",
       "      <td>[Obama, debate, brother, get, phone, TurnUp, say, Tuesday, Tonight]</td>\n",
       "      <td>[obama, debate, brother, get, phone, turnup, say, tuesday, tonight]</td>\n",
       "      <td>[]</td>\n",
       "      <td>2012-10-16</td>\n",
       "    </tr>\n",
       "    <tr>\n",
       "      <th>19754</th>\n",
       "      <td>8</td>\n",
       "      <td>258329230482501633</td>\n",
       "      <td>Photoset: Hempstead, NY Obama-Romney 2nd debate http://t.co/XDb95u6e</td>\n",
       "      <td>27631423</td>\n",
       "      <td>2012-10-16 22:11:02</td>\n",
       "      <td>Italia</td>\n",
       "      <td></td>\n",
       "      <td></td>\n",
       "      <td></td>\n",
       "      <td>[]</td>\n",
       "      <td>[]</td>\n",
       "      <td>[]</td>\n",
       "      <td>[(Hempstead, ORG), (NY Obama-Romney 2nd, PERSON)]</td>\n",
       "      <td>[Hempstead, 2nd, debate, ObamaRomney, Photoset, NY]</td>\n",
       "      <td>[hempstead, debate, obamaromney, photoset, ny]</td>\n",
       "      <td>[obamaromney]</td>\n",
       "      <td>2012-10-16</td>\n",
       "    </tr>\n",
       "    <tr>\n",
       "      <th>19755</th>\n",
       "      <td>8</td>\n",
       "      <td>258329381552934913</td>\n",
       "      <td>Do you think #Obama will be able to rebound tonight? Or will #Romney keep his momentum going?</td>\n",
       "      <td>575961236</td>\n",
       "      <td>2012-10-16 22:11:38</td>\n",
       "      <td>Anaheim Hills, CA</td>\n",
       "      <td></td>\n",
       "      <td></td>\n",
       "      <td></td>\n",
       "      <td>[Obama, Romney]</td>\n",
       "      <td>[]</td>\n",
       "      <td>[]</td>\n",
       "      <td>[(#, CARDINAL), (tonight, TIME), (#, CARDINAL), (Romney, ORG)]</td>\n",
       "      <td>[keep, tonight, think, momentum, able, rebound, go]</td>\n",
       "      <td>[keep, tonight, think, momentum, able, rebound, go]</td>\n",
       "      <td>[]</td>\n",
       "      <td>2012-10-16</td>\n",
       "    </tr>\n",
       "    <tr>\n",
       "      <th>19757</th>\n",
       "      <td>8</td>\n",
       "      <td>258329515422531584</td>\n",
       "      <td>If it gets to tough for Obama, he can always hide behind Crowley.</td>\n",
       "      <td>445019219</td>\n",
       "      <td>2012-10-16 22:12:10</td>\n",
       "      <td></td>\n",
       "      <td></td>\n",
       "      <td></td>\n",
       "      <td></td>\n",
       "      <td>[]</td>\n",
       "      <td>[]</td>\n",
       "      <td>[]</td>\n",
       "      <td>[(Obama, GPE), (Crowley, ORG)]</td>\n",
       "      <td>[always, tough, Obama, get, hide, Crowley, behind]</td>\n",
       "      <td>[always, tough, obama, get, hide, crowley, behind]</td>\n",
       "      <td>[]</td>\n",
       "      <td>2012-10-16</td>\n",
       "    </tr>\n",
       "  </tbody>\n",
       "</table>\n",
       "</div>"
      ],
      "text/plain": [
       "      event_id            tweet_id  \\\n",
       "19739        8  258327573812109317   \n",
       "19741        8  258327737322844161   \n",
       "19754        8  258329230482501633   \n",
       "19755        8  258329381552934913   \n",
       "19757        8  258329515422531584   \n",
       "\n",
       "                                                                                                              text  \\\n",
       "19739                                                                     Debate comes on to tonight !!!!!! #Obama   \n",
       "19741  Debate Tonight TurnUp Tuesday @9pm. I just got of the phone Obama ! He Said \"I got this my Brother\" #2terms   \n",
       "19754                                         Photoset: Hempstead, NY Obama-Romney 2nd debate http://t.co/XDb95u6e   \n",
       "19755                Do you think #Obama will be able to rebound tonight? Or will #Romney keep his momentum going?   \n",
       "19757                                            If it gets to tough for Obama, he can always hide behind Crowley.   \n",
       "\n",
       "         user_id          created_at                user_loc place_type  \\\n",
       "19739  110040608 2012-10-16 22:04:27       Southern Cali✈ATL              \n",
       "19741   30707097 2012-10-16 22:05:06  South Carolina, Conway              \n",
       "19754   27631423 2012-10-16 22:11:02                  Italia              \n",
       "19755  575961236 2012-10-16 22:11:38      Anaheim Hills, CA               \n",
       "19757  445019219 2012-10-16 22:12:10                                      \n",
       "\n",
       "      place_full_name place_country_code         hashtags user_mentions  \\\n",
       "19739                                             [Obama]            []   \n",
       "19741                                            [2terms]    [16286578]   \n",
       "19754                                                  []            []   \n",
       "19755                                     [Obama, Romney]            []   \n",
       "19757                                                  []            []   \n",
       "\n",
       "      image_urls  \\\n",
       "19739         []   \n",
       "19741         []   \n",
       "19754         []   \n",
       "19755         []   \n",
       "19757         []   \n",
       "\n",
       "                                                             entities  \\\n",
       "19739                                [(tonight, TIME), (#, CARDINAL)]   \n",
       "19741                 [(Tuesday, DATE), (@9pm, PERSON), (Obama, GPE)]   \n",
       "19754               [(Hempstead, ORG), (NY Obama-Romney 2nd, PERSON)]   \n",
       "19755  [(#, CARDINAL), (tonight, TIME), (#, CARDINAL), (Romney, ORG)]   \n",
       "19757                                  [(Obama, GPE), (Crowley, ORG)]   \n",
       "\n",
       "                                                                     words  \\\n",
       "19739                                              [come, tonight, debate]   \n",
       "19741  [Obama, debate, brother, get, phone, TurnUp, say, Tuesday, Tonight]   \n",
       "19754                  [Hempstead, 2nd, debate, ObamaRomney, Photoset, NY]   \n",
       "19755                  [keep, tonight, think, momentum, able, rebound, go]   \n",
       "19757                   [always, tough, Obama, get, hide, Crowley, behind]   \n",
       "\n",
       "                                                            filtered_words  \\\n",
       "19739                                              [come, tonight, debate]   \n",
       "19741  [obama, debate, brother, get, phone, turnup, say, tuesday, tonight]   \n",
       "19754                       [hempstead, debate, obamaromney, photoset, ny]   \n",
       "19755                  [keep, tonight, think, momentum, able, rebound, go]   \n",
       "19757                   [always, tough, obama, get, hide, crowley, behind]   \n",
       "\n",
       "       sampled_words        date  \n",
       "19739             []  2012-10-16  \n",
       "19741             []  2012-10-16  \n",
       "19754  [obamaromney]  2012-10-16  \n",
       "19755             []  2012-10-16  \n",
       "19757             []  2012-10-16  "
      ]
     },
     "execution_count": 32,
     "metadata": {},
     "output_type": "execute_result"
    }
   ],
   "source": [
    "# 全部显示\n",
    "pd.set_option('max_colwidth', None)\n",
    "df[df['event_id']==8].head()"
   ]
  },
  {
   "cell_type": "code",
   "execution_count": 33,
   "id": "70fb326e",
   "metadata": {
    "ExecuteTime": {
     "end_time": "2023-07-28T10:01:58.592759Z",
     "start_time": "2023-07-28T10:01:58.417318Z"
    },
    "scrolled": false
   },
   "outputs": [
    {
     "name": "stderr",
     "output_type": "stream",
     "text": [
      "C:\\Users\\yysgz\\AppData\\Local\\Temp\\ipykernel_10004\\4106213676.py:1: SettingWithCopyWarning: \n",
      "A value is trying to be set on a copy of a slice from a DataFrame\n",
      "\n",
      "See the caveats in the documentation: https://pandas.pydata.org/pandas-docs/stable/user_guide/indexing.html#returning-a-view-versus-a-copy\n",
      "  df_extract.loc['created_at'] = pd.to_datetime(df_extract['created_at'])\n"
     ]
    },
    {
     "data": {
      "text/html": [
       "<div>\n",
       "<style scoped>\n",
       "    .dataframe tbody tr th:only-of-type {\n",
       "        vertical-align: middle;\n",
       "    }\n",
       "\n",
       "    .dataframe tbody tr th {\n",
       "        vertical-align: top;\n",
       "    }\n",
       "\n",
       "    .dataframe thead th {\n",
       "        text-align: right;\n",
       "    }\n",
       "</style>\n",
       "<table border=\"1\" class=\"dataframe\">\n",
       "  <thead>\n",
       "    <tr style=\"text-align: right;\">\n",
       "      <th></th>\n",
       "      <th>event_id</th>\n",
       "      <th>tweet_id</th>\n",
       "      <th>text</th>\n",
       "      <th>user_id</th>\n",
       "      <th>created_at</th>\n",
       "      <th>user_loc</th>\n",
       "      <th>place_type</th>\n",
       "      <th>place_full_name</th>\n",
       "      <th>place_country_code</th>\n",
       "      <th>hashtags</th>\n",
       "      <th>user_mentions</th>\n",
       "      <th>image_urls</th>\n",
       "      <th>entities</th>\n",
       "      <th>words</th>\n",
       "      <th>filtered_words</th>\n",
       "      <th>sampled_words</th>\n",
       "      <th>date</th>\n",
       "    </tr>\n",
       "  </thead>\n",
       "  <tbody>\n",
       "    <tr>\n",
       "      <th>68840</th>\n",
       "      <td>430</td>\n",
       "      <td>265966797839273984</td>\n",
       "      <td>If romney wins idk i could leave the country cuz i cant afford to take my whole fam</td>\n",
       "      <td>432194703</td>\n",
       "      <td>2012-11-07 00:00:00</td>\n",
       "      <td></td>\n",
       "      <td></td>\n",
       "      <td></td>\n",
       "      <td></td>\n",
       "      <td>[]</td>\n",
       "      <td>[]</td>\n",
       "      <td>[]</td>\n",
       "      <td>[]</td>\n",
       "      <td>[not, cuz, afford, idk, country, can, whole, win, leave, take, fam, romney, could]</td>\n",
       "      <td>[not, cuz, afford, idk, country, can, whole, win, leave, take, fam, romney, could]</td>\n",
       "      <td>[]</td>\n",
       "      <td>2012-11-07</td>\n",
       "    </tr>\n",
       "    <tr>\n",
       "      <th>68839</th>\n",
       "      <td>197</td>\n",
       "      <td>265966617589084160</td>\n",
       "      <td>Bombings rock Damascus, brother of parliament speaker killed: \"Anything, anything, to get that man out of the co... http://t.co/DgLLkr77</td>\n",
       "      <td>311802961</td>\n",
       "      <td>2012-11-06 23:59:17</td>\n",
       "      <td></td>\n",
       "      <td></td>\n",
       "      <td></td>\n",
       "      <td></td>\n",
       "      <td>[]</td>\n",
       "      <td>[]</td>\n",
       "      <td>[]</td>\n",
       "      <td>[(Damascus, GPE)]</td>\n",
       "      <td>[Anything, Damascus, rock, kill, brother, co, parliament, get, man, anything, speaker, bombing]</td>\n",
       "      <td>[anything, damascus, rock, kill, brother, co, parliament, get, man, anything, speaker, bombing]</td>\n",
       "      <td>[]</td>\n",
       "      <td>2012-11-06</td>\n",
       "    </tr>\n",
       "    <tr>\n",
       "      <th>68838</th>\n",
       "      <td>52</td>\n",
       "      <td>265966529496092675</td>\n",
       "      <td>About to watch the election presentation</td>\n",
       "      <td>283768568</td>\n",
       "      <td>2012-11-06 23:58:56</td>\n",
       "      <td></td>\n",
       "      <td></td>\n",
       "      <td></td>\n",
       "      <td></td>\n",
       "      <td>[]</td>\n",
       "      <td>[]</td>\n",
       "      <td>[]</td>\n",
       "      <td>[]</td>\n",
       "      <td>[election, watch, presentation]</td>\n",
       "      <td>[election, watch, presentation]</td>\n",
       "      <td>[]</td>\n",
       "      <td>2012-11-06</td>\n",
       "    </tr>\n",
       "    <tr>\n",
       "      <th>68837</th>\n",
       "      <td>52</td>\n",
       "      <td>265966512672759808</td>\n",
       "      <td>I'm watching United States Presidential Election 2012 (3902 others checked-in) http://t.co/o6yLeDqM #GetGlue #election2012</td>\n",
       "      <td>115979133</td>\n",
       "      <td>2012-11-06 23:58:52</td>\n",
       "      <td></td>\n",
       "      <td></td>\n",
       "      <td></td>\n",
       "      <td></td>\n",
       "      <td>[GetGlue, election2012]</td>\n",
       "      <td>[]</td>\n",
       "      <td>[]</td>\n",
       "      <td>[(United States Presidential Election 2012, ORG), (3902, CARDINAL), (#GetGlue #, MONEY)]</td>\n",
       "      <td>[be, United, -PRON-, other, Election, checkedin, States, watch, Presidential]</td>\n",
       "      <td>[be, united, other, election, checkedin, states, watch, presidential]</td>\n",
       "      <td>[checkedin]</td>\n",
       "      <td>2012-11-06</td>\n",
       "    </tr>\n",
       "    <tr>\n",
       "      <th>68836</th>\n",
       "      <td>67</td>\n",
       "      <td>265966361803640832</td>\n",
       "      <td>“@5ftOfReal: 3 states might legalize marijuana, the world is changing lol” nc?</td>\n",
       "      <td>257380081</td>\n",
       "      <td>2012-11-06 23:58:16</td>\n",
       "      <td>2 5 2</td>\n",
       "      <td></td>\n",
       "      <td></td>\n",
       "      <td></td>\n",
       "      <td>[]</td>\n",
       "      <td>[]</td>\n",
       "      <td>[]</td>\n",
       "      <td>[(3, CARDINAL)]</td>\n",
       "      <td>[state, legalize, may, \", marijuana, nc, change, world, “, lol]</td>\n",
       "      <td>[state, legalize, may, marijuana, nc, change, world, lol]</td>\n",
       "      <td>[]</td>\n",
       "      <td>2012-11-06</td>\n",
       "    </tr>\n",
       "    <tr>\n",
       "      <th>...</th>\n",
       "      <td>...</td>\n",
       "      <td>...</td>\n",
       "      <td>...</td>\n",
       "      <td>...</td>\n",
       "      <td>...</td>\n",
       "      <td>...</td>\n",
       "      <td>...</td>\n",
       "      <td>...</td>\n",
       "      <td>...</td>\n",
       "      <td>...</td>\n",
       "      <td>...</td>\n",
       "      <td>...</td>\n",
       "      <td>...</td>\n",
       "      <td>...</td>\n",
       "      <td>...</td>\n",
       "      <td>...</td>\n",
       "      <td>...</td>\n",
       "    </tr>\n",
       "    <tr>\n",
       "      <th>3</th>\n",
       "      <td>394</td>\n",
       "      <td>255820164023595008</td>\n",
       "      <td>BET HipHop awards is on!!!</td>\n",
       "      <td>197834311</td>\n",
       "      <td>2012-10-10 00:00:54</td>\n",
       "      <td>Saint Lucia ☀️🌴🇱🇨</td>\n",
       "      <td></td>\n",
       "      <td></td>\n",
       "      <td></td>\n",
       "      <td>[]</td>\n",
       "      <td>[]</td>\n",
       "      <td>[]</td>\n",
       "      <td>[]</td>\n",
       "      <td>[HipHop, BET, award]</td>\n",
       "      <td>[hiphop, bet, award]</td>\n",
       "      <td>[]</td>\n",
       "      <td>2012-10-10</td>\n",
       "    </tr>\n",
       "    <tr>\n",
       "      <th>2</th>\n",
       "      <td>394</td>\n",
       "      <td>255820147489636353</td>\n",
       "      <td>Bet hiphop awards</td>\n",
       "      <td>566825483</td>\n",
       "      <td>2012-10-10 00:00:50</td>\n",
       "      <td></td>\n",
       "      <td></td>\n",
       "      <td></td>\n",
       "      <td></td>\n",
       "      <td>[]</td>\n",
       "      <td>[]</td>\n",
       "      <td>[]</td>\n",
       "      <td>[(Bet, GPE)]</td>\n",
       "      <td>[award, bet, hiphop]</td>\n",
       "      <td>[award, bet, hiphop]</td>\n",
       "      <td>[]</td>\n",
       "      <td>2012-10-10</td>\n",
       "    </tr>\n",
       "    <tr>\n",
       "      <th>1</th>\n",
       "      <td>394</td>\n",
       "      <td>255820118095978496</td>\n",
       "      <td>HIPHOP AWARDS TIME!</td>\n",
       "      <td>28026779</td>\n",
       "      <td>2012-10-10 00:00:43</td>\n",
       "      <td>SoundCloud/RaRaSupaStar</td>\n",
       "      <td></td>\n",
       "      <td></td>\n",
       "      <td></td>\n",
       "      <td>[]</td>\n",
       "      <td>[]</td>\n",
       "      <td>[]</td>\n",
       "      <td>[]</td>\n",
       "      <td>[HIPHOP, AWARDS, time]</td>\n",
       "      <td>[hiphop, awards, time]</td>\n",
       "      <td>[]</td>\n",
       "      <td>2012-10-10</td>\n",
       "    </tr>\n",
       "    <tr>\n",
       "      <th>0</th>\n",
       "      <td>394</td>\n",
       "      <td>255819992157786112</td>\n",
       "      <td>HipHop awards bout to be live!!</td>\n",
       "      <td>250870763</td>\n",
       "      <td>2012-10-10 00:00:13</td>\n",
       "      <td></td>\n",
       "      <td></td>\n",
       "      <td></td>\n",
       "      <td></td>\n",
       "      <td>[]</td>\n",
       "      <td>[]</td>\n",
       "      <td>[]</td>\n",
       "      <td>[]</td>\n",
       "      <td>[award, live, bout, hiphop]</td>\n",
       "      <td>[award, live, bout, hiphop]</td>\n",
       "      <td>[]</td>\n",
       "      <td>2012-10-10</td>\n",
       "    </tr>\n",
       "    <tr>\n",
       "      <th>created_at</th>\n",
       "      <td>NaN</td>\n",
       "      <td>NaN</td>\n",
       "      <td>NaN</td>\n",
       "      <td>NaN</td>\n",
       "      <td>NaT</td>\n",
       "      <td>NaN</td>\n",
       "      <td>NaN</td>\n",
       "      <td>NaN</td>\n",
       "      <td>NaN</td>\n",
       "      <td>NaN</td>\n",
       "      <td>NaN</td>\n",
       "      <td>NaN</td>\n",
       "      <td>NaN</td>\n",
       "      <td>NaN</td>\n",
       "      <td>NaN</td>\n",
       "      <td>NaN</td>\n",
       "      <td>NaN</td>\n",
       "    </tr>\n",
       "  </tbody>\n",
       "</table>\n",
       "<p>68044 rows × 17 columns</p>\n",
       "</div>"
      ],
      "text/plain": [
       "           event_id            tweet_id  \\\n",
       "68840           430  265966797839273984   \n",
       "68839           197  265966617589084160   \n",
       "68838            52  265966529496092675   \n",
       "68837            52  265966512672759808   \n",
       "68836            67  265966361803640832   \n",
       "...             ...                 ...   \n",
       "3               394  255820164023595008   \n",
       "2               394  255820147489636353   \n",
       "1               394  255820118095978496   \n",
       "0               394  255819992157786112   \n",
       "created_at      NaN                 NaN   \n",
       "\n",
       "                                                                                                                                                text  \\\n",
       "68840                                                            If romney wins idk i could leave the country cuz i cant afford to take my whole fam   \n",
       "68839       Bombings rock Damascus, brother of parliament speaker killed: \"Anything, anything, to get that man out of the co... http://t.co/DgLLkr77   \n",
       "68838                                                                                                       About to watch the election presentation   \n",
       "68837                     I'm watching United States Presidential Election 2012 (3902 others checked-in) http://t.co/o6yLeDqM #GetGlue #election2012   \n",
       "68836                                                                 “@5ftOfReal: 3 states might legalize marijuana, the world is changing lol” nc?   \n",
       "...                                                                                                                                              ...   \n",
       "3                                                                                                                         BET HipHop awards is on!!!   \n",
       "2                                                                                                                                  Bet hiphop awards   \n",
       "1                                                                                                                                HIPHOP AWARDS TIME!   \n",
       "0                                                                                                                    HipHop awards bout to be live!!   \n",
       "created_at                                                                                                                                       NaN   \n",
       "\n",
       "              user_id          created_at                 user_loc place_type  \\\n",
       "68840       432194703 2012-11-07 00:00:00                                       \n",
       "68839       311802961 2012-11-06 23:59:17                                       \n",
       "68838       283768568 2012-11-06 23:58:56                                       \n",
       "68837       115979133 2012-11-06 23:58:52                                       \n",
       "68836       257380081 2012-11-06 23:58:16                    2 5 2              \n",
       "...               ...                 ...                      ...        ...   \n",
       "3           197834311 2012-10-10 00:00:54        Saint Lucia ☀️🌴🇱🇨              \n",
       "2           566825483 2012-10-10 00:00:50                                       \n",
       "1            28026779 2012-10-10 00:00:43  SoundCloud/RaRaSupaStar              \n",
       "0           250870763 2012-10-10 00:00:13                                       \n",
       "created_at        NaN                 NaT                      NaN        NaN   \n",
       "\n",
       "           place_full_name place_country_code                 hashtags  \\\n",
       "68840                                                               []   \n",
       "68839                                                               []   \n",
       "68838                                                               []   \n",
       "68837                                          [GetGlue, election2012]   \n",
       "68836                                                               []   \n",
       "...                    ...                ...                      ...   \n",
       "3                                                                   []   \n",
       "2                                                                   []   \n",
       "1                                                                   []   \n",
       "0                                                                   []   \n",
       "created_at             NaN                NaN                      NaN   \n",
       "\n",
       "           user_mentions image_urls  \\\n",
       "68840                 []         []   \n",
       "68839                 []         []   \n",
       "68838                 []         []   \n",
       "68837                 []         []   \n",
       "68836                 []         []   \n",
       "...                  ...        ...   \n",
       "3                     []         []   \n",
       "2                     []         []   \n",
       "1                     []         []   \n",
       "0                     []         []   \n",
       "created_at           NaN        NaN   \n",
       "\n",
       "                                                                                            entities  \\\n",
       "68840                                                                                             []   \n",
       "68839                                                                              [(Damascus, GPE)]   \n",
       "68838                                                                                             []   \n",
       "68837       [(United States Presidential Election 2012, ORG), (3902, CARDINAL), (#GetGlue #, MONEY)]   \n",
       "68836                                                                                [(3, CARDINAL)]   \n",
       "...                                                                                              ...   \n",
       "3                                                                                                 []   \n",
       "2                                                                                       [(Bet, GPE)]   \n",
       "1                                                                                                 []   \n",
       "0                                                                                                 []   \n",
       "created_at                                                                                       NaN   \n",
       "\n",
       "                                                                                                      words  \\\n",
       "68840                    [not, cuz, afford, idk, country, can, whole, win, leave, take, fam, romney, could]   \n",
       "68839       [Anything, Damascus, rock, kill, brother, co, parliament, get, man, anything, speaker, bombing]   \n",
       "68838                                                                       [election, watch, presentation]   \n",
       "68837                         [be, United, -PRON-, other, Election, checkedin, States, watch, Presidential]   \n",
       "68836                                       [state, legalize, may, \", marijuana, nc, change, world, “, lol]   \n",
       "...                                                                                                     ...   \n",
       "3                                                                                      [HipHop, BET, award]   \n",
       "2                                                                                      [award, bet, hiphop]   \n",
       "1                                                                                    [HIPHOP, AWARDS, time]   \n",
       "0                                                                               [award, live, bout, hiphop]   \n",
       "created_at                                                                                              NaN   \n",
       "\n",
       "                                                                                             filtered_words  \\\n",
       "68840                    [not, cuz, afford, idk, country, can, whole, win, leave, take, fam, romney, could]   \n",
       "68839       [anything, damascus, rock, kill, brother, co, parliament, get, man, anything, speaker, bombing]   \n",
       "68838                                                                       [election, watch, presentation]   \n",
       "68837                                 [be, united, other, election, checkedin, states, watch, presidential]   \n",
       "68836                                             [state, legalize, may, marijuana, nc, change, world, lol]   \n",
       "...                                                                                                     ...   \n",
       "3                                                                                      [hiphop, bet, award]   \n",
       "2                                                                                      [award, bet, hiphop]   \n",
       "1                                                                                    [hiphop, awards, time]   \n",
       "0                                                                               [award, live, bout, hiphop]   \n",
       "created_at                                                                                              NaN   \n",
       "\n",
       "           sampled_words        date  \n",
       "68840                 []  2012-11-07  \n",
       "68839                 []  2012-11-06  \n",
       "68838                 []  2012-11-06  \n",
       "68837        [checkedin]  2012-11-06  \n",
       "68836                 []  2012-11-06  \n",
       "...                  ...         ...  \n",
       "3                     []  2012-10-10  \n",
       "2                     []  2012-10-10  \n",
       "1                     []  2012-10-10  \n",
       "0                     []  2012-10-10  \n",
       "created_at           NaN         NaN  \n",
       "\n",
       "[68044 rows x 17 columns]"
      ]
     },
     "execution_count": 33,
     "metadata": {},
     "output_type": "execute_result"
    }
   ],
   "source": [
    "df_extract.loc['created_at'] = pd.to_datetime(df_extract['created_at'])\n",
    "df_time = df_extract.sort_values(by='created_at', ascending=False)\n",
    "df_time"
   ]
  },
  {
   "cell_type": "code",
   "execution_count": 34,
   "id": "3b06b52b",
   "metadata": {
    "ExecuteTime": {
     "end_time": "2023-07-28T10:01:59.710278Z",
     "start_time": "2023-07-28T10:01:59.529766Z"
    }
   },
   "outputs": [
    {
     "name": "stdout",
     "output_type": "stream",
     "text": [
      "<class 'pandas.core.frame.DataFrame'>\n",
      "Index: 68044 entries, 0 to created_at\n",
      "Data columns (total 17 columns):\n",
      " #   Column              Non-Null Count  Dtype         \n",
      "---  ------              --------------  -----         \n",
      " 0   event_id            68043 non-null  object        \n",
      " 1   tweet_id            68043 non-null  object        \n",
      " 2   text                68043 non-null  object        \n",
      " 3   user_id             68043 non-null  object        \n",
      " 4   created_at          68043 non-null  datetime64[ns]\n",
      " 5   user_loc            68043 non-null  object        \n",
      " 6   place_type          68043 non-null  object        \n",
      " 7   place_full_name     68043 non-null  object        \n",
      " 8   place_country_code  68043 non-null  object        \n",
      " 9   hashtags            68043 non-null  object        \n",
      " 10  user_mentions       68043 non-null  object        \n",
      " 11  image_urls          68043 non-null  object        \n",
      " 12  entities            68043 non-null  object        \n",
      " 13  words               68043 non-null  object        \n",
      " 14  filtered_words      68043 non-null  object        \n",
      " 15  sampled_words       68043 non-null  object        \n",
      " 16  date                68043 non-null  object        \n",
      "dtypes: datetime64[ns](1), object(16)\n",
      "memory usage: 9.3+ MB\n"
     ]
    }
   ],
   "source": [
    "df_extract.info()"
   ]
  },
  {
   "cell_type": "markdown",
   "id": "4f49e5ec",
   "metadata": {
    "ExecuteTime": {
     "end_time": "2023-07-28T09:56:56.568726Z",
     "start_time": "2023-07-28T09:56:56.557754Z"
    }
   },
   "source": [
    "## df_offline"
   ]
  },
  {
   "cell_type": "code",
   "execution_count": 29,
   "id": "e1d3f242",
   "metadata": {
    "ExecuteTime": {
     "end_time": "2023-07-28T09:59:34.587955Z",
     "start_time": "2023-07-28T09:59:34.563994Z"
    }
   },
   "outputs": [
    {
     "data": {
      "text/plain": [
       "array([datetime.date(2012, 10, 10), datetime.date(2012, 10, 11),\n",
       "       datetime.date(2012, 10, 12), datetime.date(2012, 10, 13),\n",
       "       datetime.date(2012, 10, 14), datetime.date(2012, 10, 15),\n",
       "       datetime.date(2012, 10, 16), datetime.date(2012, 10, 17),\n",
       "       datetime.date(2012, 10, 18), datetime.date(2012, 10, 19),\n",
       "       datetime.date(2012, 10, 20), datetime.date(2012, 10, 21),\n",
       "       datetime.date(2012, 10, 22), datetime.date(2012, 10, 23),\n",
       "       datetime.date(2012, 10, 24), datetime.date(2012, 10, 25),\n",
       "       datetime.date(2012, 10, 26), datetime.date(2012, 10, 27),\n",
       "       datetime.date(2012, 10, 28), datetime.date(2012, 10, 29),\n",
       "       datetime.date(2012, 10, 30), datetime.date(2012, 10, 31),\n",
       "       datetime.date(2012, 11, 1), datetime.date(2012, 11, 2),\n",
       "       datetime.date(2012, 11, 3), datetime.date(2012, 11, 4),\n",
       "       datetime.date(2012, 11, 5), datetime.date(2012, 11, 6),\n",
       "       datetime.date(2012, 11, 7)], dtype=object)"
      ]
     },
     "execution_count": 29,
     "metadata": {},
     "output_type": "execute_result"
    }
   ],
   "source": [
    "df.date.unique()"
   ]
  },
  {
   "cell_type": "code",
   "execution_count": 37,
   "id": "a6fec44d",
   "metadata": {
    "ExecuteTime": {
     "end_time": "2023-07-28T10:02:48.690519Z",
     "start_time": "2023-07-28T10:02:48.604635Z"
    }
   },
   "outputs": [],
   "source": [
    "# social message in the first week of offline experimental dataset\n",
    "init_day = df.loc[0,'date']\n",
    "# offline dataset\n",
    "df_offline = df_extract[(df_extract['date']>= init_day) & (df_extract['date']<= init_day + datetime.timedelta(days=6))].reset_index()  # (11971, 18)"
   ]
  },
  {
   "cell_type": "code",
   "execution_count": 42,
   "id": "ce7e9c69",
   "metadata": {
    "ExecuteTime": {
     "end_time": "2023-07-28T10:06:01.448730Z",
     "start_time": "2023-07-28T10:06:01.435763Z"
    }
   },
   "outputs": [
    {
     "data": {
      "text/plain": [
       "array([datetime.date(2012, 10, 10), datetime.date(2012, 10, 11),\n",
       "       datetime.date(2012, 10, 12), datetime.date(2012, 10, 13),\n",
       "       datetime.date(2012, 10, 14), datetime.date(2012, 10, 15),\n",
       "       datetime.date(2012, 10, 16)], dtype=object)"
      ]
     },
     "execution_count": 42,
     "metadata": {},
     "output_type": "execute_result"
    }
   ],
   "source": [
    "df_offline.date.unique()"
   ]
  },
  {
   "cell_type": "code",
   "execution_count": 39,
   "id": "ce8c098d",
   "metadata": {
    "ExecuteTime": {
     "end_time": "2023-07-28T10:03:13.244658Z",
     "start_time": "2023-07-28T10:03:13.230669Z"
    }
   },
   "outputs": [
    {
     "name": "stdout",
     "output_type": "stream",
     "text": [
      "(19638, 18)\n",
      "149\n"
     ]
    }
   ],
   "source": [
    "print(df_offline.shape)   # (4762, 18)\n",
    "print(df_offline.event_id.nunique())  # 57"
   ]
  },
  {
   "cell_type": "code",
   "execution_count": 31,
   "id": "9a156955",
   "metadata": {
    "ExecuteTime": {
     "end_time": "2023-07-28T09:59:56.266874Z",
     "start_time": "2023-07-28T09:59:56.250888Z"
    }
   },
   "outputs": [
    {
     "data": {
      "text/plain": [
       "datetime.date(2012, 10, 10)"
      ]
     },
     "execution_count": 31,
     "metadata": {},
     "output_type": "execute_result"
    }
   ],
   "source": [
    "init_day"
   ]
  },
  {
   "cell_type": "markdown",
   "id": "db99a4d3",
   "metadata": {
    "ExecuteTime": {
     "end_time": "2023-07-28T10:04:40.567616Z",
     "start_time": "2023-07-28T10:04:40.549666Z"
    }
   },
   "source": [
    "## df_incremental"
   ]
  },
  {
   "cell_type": "code",
   "execution_count": 74,
   "id": "a186e101",
   "metadata": {
    "ExecuteTime": {
     "end_time": "2023-07-28T10:29:08.577972Z",
     "start_time": "2023-07-28T10:29:08.300714Z"
    }
   },
   "outputs": [
    {
     "name": "stdout",
     "output_type": "stream",
     "text": [
      "8-th day\n",
      "social messages in 8-th day date:  [datetime.date(2012, 10, 11)]\n",
      "social messages in 8-th day message numbers:  (1786, 17)\n",
      "social messages in 8-th day evet_id numbers:  40\n",
      "social stream in 8-th day date:  [datetime.date(2012, 10, 11) datetime.date(2012, 10, 12)\n",
      " datetime.date(2012, 10, 13) datetime.date(2012, 10, 14)\n",
      " datetime.date(2012, 10, 15) datetime.date(2012, 10, 16)\n",
      " datetime.date(2012, 10, 17)]\n",
      "social stream in 8-th day message numbers:  (25952, 18)\n",
      "social stream in 8-th day event_id numbers:  146\n",
      "9-th day\n",
      "social messages in 9-th day date:  [datetime.date(2012, 10, 12)]\n",
      "social messages in 9-th day message numbers:  (5428, 17)\n",
      "social messages in 9-th day evet_id numbers:  47\n",
      "social stream in 9-th day date:  [datetime.date(2012, 10, 12) datetime.date(2012, 10, 13)\n",
      " datetime.date(2012, 10, 14) datetime.date(2012, 10, 15)\n",
      " datetime.date(2012, 10, 16) datetime.date(2012, 10, 17)\n",
      " datetime.date(2012, 10, 18)]\n",
      "social stream in 9-th day message numbers:  (25657, 18)\n",
      "social stream in 9-th day event_id numbers:  145\n",
      "10-th day\n",
      "social messages in 10-th day date:  [datetime.date(2012, 10, 13)]\n",
      "social messages in 10-th day message numbers:  (1733, 17)\n",
      "social messages in 10-th day evet_id numbers:  32\n",
      "social stream in 10-th day date:  [datetime.date(2012, 10, 13) datetime.date(2012, 10, 14)\n",
      " datetime.date(2012, 10, 15) datetime.date(2012, 10, 16)\n",
      " datetime.date(2012, 10, 17) datetime.date(2012, 10, 18)\n",
      " datetime.date(2012, 10, 19)]\n",
      "social stream in 10-th day message numbers:  (22064, 18)\n",
      "social stream in 10-th day event_id numbers:  138\n",
      "11-th day\n",
      "social messages in 11-th day date:  [datetime.date(2012, 10, 14)]\n",
      "social messages in 11-th day message numbers:  (3030, 17)\n",
      "social messages in 11-th day evet_id numbers:  42\n",
      "social stream in 11-th day date:  [datetime.date(2012, 10, 14) datetime.date(2012, 10, 15)\n",
      " datetime.date(2012, 10, 16) datetime.date(2012, 10, 17)\n",
      " datetime.date(2012, 10, 18) datetime.date(2012, 10, 19)\n",
      " datetime.date(2012, 10, 20)]\n",
      "social stream in 11-th day message numbers:  (22341, 18)\n",
      "social stream in 11-th day event_id numbers:  142\n",
      "12-th day\n",
      "social messages in 12-th day date:  [datetime.date(2012, 10, 15)]\n",
      "social messages in 12-th day message numbers:  (1906, 17)\n",
      "social messages in 12-th day evet_id numbers:  45\n",
      "social stream in 12-th day date:  [datetime.date(2012, 10, 15) datetime.date(2012, 10, 16)\n",
      " datetime.date(2012, 10, 17) datetime.date(2012, 10, 18)\n",
      " datetime.date(2012, 10, 19) datetime.date(2012, 10, 20)\n",
      " datetime.date(2012, 10, 21)]\n",
      "social stream in 12-th day message numbers:  (21145, 18)\n",
      "social stream in 12-th day event_id numbers:  141\n",
      "13-th day\n",
      "social messages in 13-th day date:  [datetime.date(2012, 10, 16)]\n",
      "social messages in 13-th day message numbers:  (3347, 17)\n",
      "social messages in 13-th day evet_id numbers:  53\n",
      "social stream in 13-th day date:  [datetime.date(2012, 10, 16) datetime.date(2012, 10, 17)\n",
      " datetime.date(2012, 10, 18) datetime.date(2012, 10, 19)\n",
      " datetime.date(2012, 10, 20) datetime.date(2012, 10, 21)\n",
      " datetime.date(2012, 10, 22)]\n",
      "social stream in 13-th day message numbers:  (20515, 18)\n",
      "social stream in 13-th day event_id numbers:  154\n",
      "14-th day\n",
      "social messages in 14-th day date:  [datetime.date(2012, 10, 17)]\n",
      "social messages in 14-th day message numbers:  (8722, 17)\n",
      "social messages in 14-th day evet_id numbers:  41\n",
      "social stream in 14-th day date:  [datetime.date(2012, 10, 17) datetime.date(2012, 10, 18)\n",
      " datetime.date(2012, 10, 19) datetime.date(2012, 10, 20)\n",
      " datetime.date(2012, 10, 21) datetime.date(2012, 10, 22)\n",
      " datetime.date(2012, 10, 23)]\n",
      "social stream in 14-th day message numbers:  (22446, 18)\n",
      "social stream in 14-th day event_id numbers:  155\n"
     ]
    }
   ],
   "source": [
    "# social messages in 8th to 14th days\n",
    "for i in range(1,8):\n",
    "    day_label = str(7+i) + '-th day'\n",
    "    print(day_label)\n",
    "    df_messages = df_extract[df_extract['date'] == init_day + datetime.timedelta(days=i)]\n",
    "    print('social messages in ' + day_label + ' date: ', df_messages.date.unique())\n",
    "    print('social messages in ' + day_label + ' message numbers: ', df_messages.shape)   # (4762, 18)\n",
    "    print('social messages in ' + day_label + ' evet_id numbers: ', df_messages.event_id.nunique())  # 57\n",
    "    df_stream = df_extract[(df_extract['date']>= init_day + datetime.timedelta(days=i)) &\n",
    "                        (df_extract['date']<= init_day + datetime.timedelta(days=6+i))].reset_index()\n",
    "    print('social stream in ' + day_label + ' date: ', df_stream.date.unique())\n",
    "    print('social stream in ' + day_label + ' message numbers: ', df_stream.shape)   # (4762, 18)\n",
    "    print('social stream in ' + day_label + ' event_id numbers: ', df_stream.event_id.nunique())  # 57"
   ]
  },
  {
   "cell_type": "code",
   "execution_count": null,
   "id": "76393410",
   "metadata": {},
   "outputs": [],
   "source": []
  },
  {
   "cell_type": "code",
   "execution_count": null,
   "id": "ea430572",
   "metadata": {},
   "outputs": [],
   "source": []
  }
 ],
 "metadata": {
  "kernelspec": {
   "display_name": "Python 3 (ipykernel)",
   "language": "python",
   "name": "python3"
  },
  "language_info": {
   "codemirror_mode": {
    "name": "ipython",
    "version": 3
   },
   "file_extension": ".py",
   "mimetype": "text/x-python",
   "name": "python",
   "nbconvert_exporter": "python",
   "pygments_lexer": "ipython3",
   "version": "3.10.9"
  },
  "toc": {
   "base_numbering": 1,
   "nav_menu": {},
   "number_sections": true,
   "sideBar": true,
   "skip_h1_title": false,
   "title_cell": "Table of Contents",
   "title_sidebar": "Contents",
   "toc_cell": false,
   "toc_position": {
    "height": "calc(100% - 180px)",
    "left": "10px",
    "top": "150px",
    "width": "335.99px"
   },
   "toc_section_display": true,
   "toc_window_display": true
  },
  "varInspector": {
   "cols": {
    "lenName": 16,
    "lenType": 16,
    "lenVar": 40
   },
   "kernels_config": {
    "python": {
     "delete_cmd_postfix": "",
     "delete_cmd_prefix": "del ",
     "library": "var_list.py",
     "varRefreshCmd": "print(var_dic_list())"
    },
    "r": {
     "delete_cmd_postfix": ") ",
     "delete_cmd_prefix": "rm(",
     "library": "var_list.r",
     "varRefreshCmd": "cat(var_dic_list()) "
    }
   },
   "types_to_exclude": [
    "module",
    "function",
    "builtin_function_or_method",
    "instance",
    "_Feature"
   ],
   "window_display": false
  }
 },
 "nbformat": 4,
 "nbformat_minor": 5
}
