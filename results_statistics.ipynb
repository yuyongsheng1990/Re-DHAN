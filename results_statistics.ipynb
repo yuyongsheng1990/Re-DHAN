{
 "cells": [
  {
   "cell_type": "code",
   "execution_count": 1,
   "id": "a7751855",
   "metadata": {
    "ExecuteTime": {
     "end_time": "2023-10-07T22:02:11.907677Z",
     "start_time": "2023-10-07T22:02:11.446503Z"
    }
   },
   "outputs": [],
   "source": [
    "import pandas as pd\n",
    "import numpy as np\n",
    "\n",
    "import sys\n",
    "import re\n",
    "import os\n",
    "project_path = os.getcwd()"
   ]
  },
  {
   "cell_type": "code",
   "execution_count": 2,
   "id": "45c74eef",
   "metadata": {
    "ExecuteTime": {
     "end_time": "2023-10-07T22:02:11.923590Z",
     "start_time": "2023-10-07T22:02:11.910620Z"
    }
   },
   "outputs": [
    {
     "data": {
      "text/plain": [
       "'C:\\\\Users\\\\yysgz\\\\OneDrive - Macquarie University\\\\Desktop\\\\Re-HAN_Model'"
      ]
     },
     "execution_count": 2,
     "metadata": {},
     "output_type": "execute_result"
    }
   ],
   "source": [
    "project_path"
   ]
  },
  {
   "cell_type": "markdown",
   "id": "f0b142f3",
   "metadata": {
    "ExecuteTime": {
     "end_time": "2023-08-23T05:43:23.987202Z",
     "start_time": "2023-08-23T05:43:23.978223Z"
    }
   },
   "source": [
    "## offline detection results statistics"
   ]
  },
  {
   "cell_type": "markdown",
   "id": "c57434a2",
   "metadata": {
    "ExecuteTime": {
     "end_time": "2023-08-23T05:44:11.207823Z",
     "start_time": "2023-08-23T05:44:11.191867Z"
    }
   },
   "source": [
    "### load results"
   ]
  },
  {
   "cell_type": "code",
   "execution_count": 3,
   "id": "21294b51",
   "metadata": {
    "ExecuteTime": {
     "end_time": "2023-10-07T22:02:16.667910Z",
     "start_time": "2023-10-07T22:02:16.660934Z"
    }
   },
   "outputs": [
    {
     "name": "stdout",
     "output_type": "stream",
     "text": [
      "C:\\Users\\yysgz\\OneDrive - Macquarie University\\Desktop\\Re-HAN_Model/results/offline_embeddings_7_days/block_0\n"
     ]
    }
   ],
   "source": [
    "num_days = 7\n",
    "num_block = 0\n",
    "data_path = project_path + '/results/offline_embeddings_' + str(num_days) + '_days/block_' + str(num_block)\n",
    "save_path = project_path + '/results/offline_embeddings_' + str(num_days) + '_days'\n",
    "print(data_path)"
   ]
  },
  {
   "cell_type": "markdown",
   "id": "34029447",
   "metadata": {
    "ExecuteTime": {
     "end_time": "2023-08-23T05:49:10.676730Z",
     "start_time": "2023-08-23T05:49:10.667762Z"
    }
   },
   "source": [
    "### extract model results"
   ]
  },
  {
   "cell_type": "code",
   "execution_count": 4,
   "id": "bc9aa454",
   "metadata": {
    "ExecuteTime": {
     "end_time": "2023-10-07T22:02:17.441912Z",
     "start_time": "2023-10-07T22:02:17.422935Z"
    }
   },
   "outputs": [],
   "source": [
    "metrics_list = ['NMI', 'AMI', 'ARI', 'NMI_std', 'AMI_std', 'ARI_std']\n",
    "model_list = ['LDA', 'BERT', 'MLP', 'HAN', 'PPGCN', 'KPGNN', 'FinEvent', 'ReDHAN']"
   ]
  },
  {
   "cell_type": "code",
   "execution_count": 5,
   "id": "e186f098",
   "metadata": {
    "ExecuteTime": {
     "end_time": "2023-10-07T22:02:17.673533Z",
     "start_time": "2023-10-07T22:02:17.626562Z"
    }
   },
   "outputs": [
    {
     "name": "stdout",
     "output_type": "stream",
     "text": [
      "LDA\n",
      "BERT\n",
      "MLP\n",
      "HAN\n",
      "PPGCN\n",
      "KPGNN\n",
      "FinEvent\n",
      "C:\\Users\\yysgz\\OneDrive - Macquarie University\\Desktop\\Re-HAN_Model/results/offline_embeddings_7_days/block_0/FinEvent/evaluate.txt\n",
      "   FinEvent_NMI  FinEvent_AMI  FinEvent_ARI\n",
      "0      0.803875      0.708964      0.345184\n",
      "1      0.800246      0.703266      0.302878\n",
      "2      0.808777      0.713935      0.376213\n",
      "3      0.782810      0.673060      0.287294\n",
      "4      0.800615      0.704084      0.360651\n",
      "ReDHAN\n",
      "C:\\Users\\yysgz\\OneDrive - Macquarie University\\Desktop\\Re-HAN_Model/results/offline_embeddings_7_days/block_0/ReDHAN/evaluate.txt\n",
      "   ReDHAN_NMI  ReDHAN_AMI  ReDHAN_ARI\n",
      "0    0.767563    0.658145    0.446751\n",
      "1    0.772090    0.657904    0.362791\n",
      "2    0.790972    0.692138    0.570998\n",
      "3    0.788787    0.687481    0.465604\n",
      "4    0.772977    0.661537    0.441885\n"
     ]
    }
   ],
   "source": [
    "df = pd.DataFrame(index=model_list, columns=metrics_list)\n",
    "df_origin = pd.DataFrame()\n",
    "for i in range(len(model_list)):\n",
    "    model_name = model_list[i]\n",
    "    print(model_name)\n",
    "    result_path = data_path + '/' + model_name + '/evaluate.txt'\n",
    "#     print(result_path)\n",
    "    if not os.path.exists(result_path):\n",
    "        continue\n",
    "    else:\n",
    "        print(result_path)\n",
    "    NMI_list = []\n",
    "    AMI_list = []\n",
    "    ARI_list = []\n",
    "    with open(result_path, 'r') as f:\n",
    "        for line in f.readlines():\n",
    "            if re.match(r'(test NMI:)', line.strip('\\t'), re.IGNORECASE):\n",
    "                nmi_value = line.split(':')[-1].strip()\n",
    "                NMI_list.append(float(nmi_value))\n",
    "#                 NMI_list.append('%.3f'%float(nmi_value))\n",
    "            elif re.match(r'test AMI:', line.strip('\\t'), re.IGNORECASE):  # 正则不区分大小写\n",
    "                ami_value = line.split(':')[-1].strip()\n",
    "                AMI_list.append(float(ami_value))\n",
    "#                 AMI_list.append('%.3f'%float(ami_value))\n",
    "            elif re.match(r'(test ARI:)', line.strip('\\t'), re.IGNORECASE):\n",
    "                ari_value = line.split(':')[-1].strip()\n",
    "                ARI_list.append(float(ari_value))\n",
    "#                 ARI_list.append('%.3f'%float(ari_value))\n",
    "#     print(NMI_list)\n",
    "#     if len(NMI_list) != 5:\n",
    "#         print(\"model results exceeds 5\")\n",
    "#         sys.exit()\n",
    "    # write in result data\n",
    "    df_model = pd.DataFrame(data={model_name + '_NMI':NMI_list,\n",
    "                                model_name + '_AMI':AMI_list,\n",
    "                                model_name + '_ARI':ARI_list})\n",
    "    print(df_model)\n",
    "    df_origin = pd.concat([df_origin, df_model], axis=1)\n",
    "    df.loc[model_name, 'NMI'] = '%.3f'%np.mean(NMI_list)\n",
    "    df.loc[model_name, 'AMI'] = '%.3f'%np.mean(AMI_list)\n",
    "    df.loc[model_name, 'ARI'] = '%.3f'%np.mean(ARI_list)\n",
    "    df.loc[model_name, 'NMI_std'] = '%.3f'%np.std(NMI_list)\n",
    "    df.loc[model_name, 'AMI_std'] = '%.3f'%np.std(AMI_list)\n",
    "    df.loc[model_name, 'ARI_std'] = '%.3f'%np.std(ARI_list)"
   ]
  },
  {
   "cell_type": "code",
   "execution_count": 6,
   "id": "a0f80633",
   "metadata": {
    "ExecuteTime": {
     "end_time": "2023-10-07T22:02:17.829291Z",
     "start_time": "2023-10-07T22:02:17.816327Z"
    }
   },
   "outputs": [
    {
     "data": {
      "text/html": [
       "<div>\n",
       "<style scoped>\n",
       "    .dataframe tbody tr th:only-of-type {\n",
       "        vertical-align: middle;\n",
       "    }\n",
       "\n",
       "    .dataframe tbody tr th {\n",
       "        vertical-align: top;\n",
       "    }\n",
       "\n",
       "    .dataframe thead th {\n",
       "        text-align: right;\n",
       "    }\n",
       "</style>\n",
       "<table border=\"1\" class=\"dataframe\">\n",
       "  <thead>\n",
       "    <tr style=\"text-align: right;\">\n",
       "      <th></th>\n",
       "      <th>NMI</th>\n",
       "      <th>AMI</th>\n",
       "      <th>ARI</th>\n",
       "      <th>NMI_std</th>\n",
       "      <th>AMI_std</th>\n",
       "      <th>ARI_std</th>\n",
       "    </tr>\n",
       "  </thead>\n",
       "  <tbody>\n",
       "    <tr>\n",
       "      <th>LDA</th>\n",
       "      <td>NaN</td>\n",
       "      <td>NaN</td>\n",
       "      <td>NaN</td>\n",
       "      <td>NaN</td>\n",
       "      <td>NaN</td>\n",
       "      <td>NaN</td>\n",
       "    </tr>\n",
       "    <tr>\n",
       "      <th>BERT</th>\n",
       "      <td>NaN</td>\n",
       "      <td>NaN</td>\n",
       "      <td>NaN</td>\n",
       "      <td>NaN</td>\n",
       "      <td>NaN</td>\n",
       "      <td>NaN</td>\n",
       "    </tr>\n",
       "    <tr>\n",
       "      <th>MLP</th>\n",
       "      <td>NaN</td>\n",
       "      <td>NaN</td>\n",
       "      <td>NaN</td>\n",
       "      <td>NaN</td>\n",
       "      <td>NaN</td>\n",
       "      <td>NaN</td>\n",
       "    </tr>\n",
       "    <tr>\n",
       "      <th>HAN</th>\n",
       "      <td>NaN</td>\n",
       "      <td>NaN</td>\n",
       "      <td>NaN</td>\n",
       "      <td>NaN</td>\n",
       "      <td>NaN</td>\n",
       "      <td>NaN</td>\n",
       "    </tr>\n",
       "    <tr>\n",
       "      <th>PPGCN</th>\n",
       "      <td>NaN</td>\n",
       "      <td>NaN</td>\n",
       "      <td>NaN</td>\n",
       "      <td>NaN</td>\n",
       "      <td>NaN</td>\n",
       "      <td>NaN</td>\n",
       "    </tr>\n",
       "    <tr>\n",
       "      <th>KPGNN</th>\n",
       "      <td>NaN</td>\n",
       "      <td>NaN</td>\n",
       "      <td>NaN</td>\n",
       "      <td>NaN</td>\n",
       "      <td>NaN</td>\n",
       "      <td>NaN</td>\n",
       "    </tr>\n",
       "    <tr>\n",
       "      <th>FinEvent</th>\n",
       "      <td>0.799</td>\n",
       "      <td>0.701</td>\n",
       "      <td>0.334</td>\n",
       "      <td>0.009</td>\n",
       "      <td>0.014</td>\n",
       "      <td>0.034</td>\n",
       "    </tr>\n",
       "    <tr>\n",
       "      <th>ReDHAN</th>\n",
       "      <td>0.778</td>\n",
       "      <td>0.671</td>\n",
       "      <td>0.458</td>\n",
       "      <td>0.010</td>\n",
       "      <td>0.015</td>\n",
       "      <td>0.067</td>\n",
       "    </tr>\n",
       "  </tbody>\n",
       "</table>\n",
       "</div>"
      ],
      "text/plain": [
       "            NMI    AMI    ARI NMI_std AMI_std ARI_std\n",
       "LDA         NaN    NaN    NaN     NaN     NaN     NaN\n",
       "BERT        NaN    NaN    NaN     NaN     NaN     NaN\n",
       "MLP         NaN    NaN    NaN     NaN     NaN     NaN\n",
       "HAN         NaN    NaN    NaN     NaN     NaN     NaN\n",
       "PPGCN       NaN    NaN    NaN     NaN     NaN     NaN\n",
       "KPGNN       NaN    NaN    NaN     NaN     NaN     NaN\n",
       "FinEvent  0.799  0.701  0.334   0.009   0.014   0.034\n",
       "ReDHAN    0.778  0.671  0.458   0.010   0.015   0.067"
      ]
     },
     "execution_count": 6,
     "metadata": {},
     "output_type": "execute_result"
    }
   ],
   "source": [
    "df"
   ]
  },
  {
   "cell_type": "code",
   "execution_count": 7,
   "id": "761ec71d",
   "metadata": {
    "ExecuteTime": {
     "end_time": "2023-10-07T22:02:18.276996Z",
     "start_time": "2023-10-07T22:02:18.267032Z"
    }
   },
   "outputs": [
    {
     "data": {
      "text/html": [
       "<div>\n",
       "<style scoped>\n",
       "    .dataframe tbody tr th:only-of-type {\n",
       "        vertical-align: middle;\n",
       "    }\n",
       "\n",
       "    .dataframe tbody tr th {\n",
       "        vertical-align: top;\n",
       "    }\n",
       "\n",
       "    .dataframe thead th {\n",
       "        text-align: right;\n",
       "    }\n",
       "</style>\n",
       "<table border=\"1\" class=\"dataframe\">\n",
       "  <thead>\n",
       "    <tr style=\"text-align: right;\">\n",
       "      <th></th>\n",
       "      <th>FinEvent_NMI</th>\n",
       "      <th>FinEvent_AMI</th>\n",
       "      <th>FinEvent_ARI</th>\n",
       "      <th>ReDHAN_NMI</th>\n",
       "      <th>ReDHAN_AMI</th>\n",
       "      <th>ReDHAN_ARI</th>\n",
       "    </tr>\n",
       "  </thead>\n",
       "  <tbody>\n",
       "    <tr>\n",
       "      <th>0</th>\n",
       "      <td>0.803875</td>\n",
       "      <td>0.708964</td>\n",
       "      <td>0.345184</td>\n",
       "      <td>0.767563</td>\n",
       "      <td>0.658145</td>\n",
       "      <td>0.446751</td>\n",
       "    </tr>\n",
       "    <tr>\n",
       "      <th>1</th>\n",
       "      <td>0.800246</td>\n",
       "      <td>0.703266</td>\n",
       "      <td>0.302878</td>\n",
       "      <td>0.772090</td>\n",
       "      <td>0.657904</td>\n",
       "      <td>0.362791</td>\n",
       "    </tr>\n",
       "    <tr>\n",
       "      <th>2</th>\n",
       "      <td>0.808777</td>\n",
       "      <td>0.713935</td>\n",
       "      <td>0.376213</td>\n",
       "      <td>0.790972</td>\n",
       "      <td>0.692138</td>\n",
       "      <td>0.570998</td>\n",
       "    </tr>\n",
       "    <tr>\n",
       "      <th>3</th>\n",
       "      <td>0.782810</td>\n",
       "      <td>0.673060</td>\n",
       "      <td>0.287294</td>\n",
       "      <td>0.788787</td>\n",
       "      <td>0.687481</td>\n",
       "      <td>0.465604</td>\n",
       "    </tr>\n",
       "    <tr>\n",
       "      <th>4</th>\n",
       "      <td>0.800615</td>\n",
       "      <td>0.704084</td>\n",
       "      <td>0.360651</td>\n",
       "      <td>0.772977</td>\n",
       "      <td>0.661537</td>\n",
       "      <td>0.441885</td>\n",
       "    </tr>\n",
       "  </tbody>\n",
       "</table>\n",
       "</div>"
      ],
      "text/plain": [
       "   FinEvent_NMI  FinEvent_AMI  FinEvent_ARI  ReDHAN_NMI  ReDHAN_AMI  \\\n",
       "0      0.803875      0.708964      0.345184    0.767563    0.658145   \n",
       "1      0.800246      0.703266      0.302878    0.772090    0.657904   \n",
       "2      0.808777      0.713935      0.376213    0.790972    0.692138   \n",
       "3      0.782810      0.673060      0.287294    0.788787    0.687481   \n",
       "4      0.800615      0.704084      0.360651    0.772977    0.661537   \n",
       "\n",
       "   ReDHAN_ARI  \n",
       "0    0.446751  \n",
       "1    0.362791  \n",
       "2    0.570998  \n",
       "3    0.465604  \n",
       "4    0.441885  "
      ]
     },
     "execution_count": 7,
     "metadata": {},
     "output_type": "execute_result"
    }
   ],
   "source": [
    "df_origin"
   ]
  },
  {
   "cell_type": "code",
   "execution_count": 8,
   "id": "d88c4655",
   "metadata": {
    "ExecuteTime": {
     "end_time": "2023-10-07T22:02:19.065465Z",
     "start_time": "2023-10-07T22:02:18.727355Z"
    }
   },
   "outputs": [
    {
     "name": "stderr",
     "output_type": "stream",
     "text": [
      "C:\\Users\\yysgz\\AppData\\Local\\Temp\\ipykernel_7204\\612438517.py:4: FutureWarning: save is not part of the public API, usage can give unexpected results and will be removed in a future version\n",
      "  writer.save()\n"
     ]
    }
   ],
   "source": [
    "writer = pd.ExcelWriter(save_path + '/results_statistics'+'_'+str(num_days)+'_days' +'_block_'+ str(num_block) +'.xlsx')\n",
    "df.to_excel(writer, sheet_name = 'Sheet1')\n",
    "df_origin.to_excel(writer, sheet_name='Sheet2', index=True)\n",
    "writer.save()\n",
    "writer.close()"
   ]
  },
  {
   "cell_type": "code",
   "execution_count": 94,
   "id": "b0840642",
   "metadata": {
    "ExecuteTime": {
     "end_time": "2023-08-23T08:58:02.646380Z",
     "start_time": "2023-08-23T08:58:02.598976Z"
    }
   },
   "outputs": [],
   "source": [
    "# df.to_excel(project_path + '/results_statistics'+'_'+str(num_days)+'_days' + '.xlsx', sheet_name='Sheet1')\n",
    "# df_origin.to_excel(project_path + '/results_statistics'+'_'+str(num_days)+'_days' + '.xlsx', sheet_name='Sheet2', index=True)"
   ]
  }
 ],
 "metadata": {
  "kernelspec": {
   "display_name": "Python 3 (ipykernel)",
   "language": "python",
   "name": "python3"
  },
  "language_info": {
   "codemirror_mode": {
    "name": "ipython",
    "version": 3
   },
   "file_extension": ".py",
   "mimetype": "text/x-python",
   "name": "python",
   "nbconvert_exporter": "python",
   "pygments_lexer": "ipython3",
   "version": "3.10.9"
  },
  "toc": {
   "base_numbering": 1,
   "nav_menu": {},
   "number_sections": true,
   "sideBar": true,
   "skip_h1_title": false,
   "title_cell": "Table of Contents",
   "title_sidebar": "Contents",
   "toc_cell": false,
   "toc_position": {
    "height": "calc(100% - 180px)",
    "left": "10px",
    "top": "150px",
    "width": "299.983px"
   },
   "toc_section_display": true,
   "toc_window_display": true
  }
 },
 "nbformat": 4,
 "nbformat_minor": 5
}
