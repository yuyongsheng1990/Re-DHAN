{
 "cells": [
  {
   "cell_type": "code",
   "execution_count": 1,
   "id": "a7751855",
   "metadata": {
    "ExecuteTime": {
     "end_time": "2023-10-25T00:28:38.779567Z",
     "start_time": "2023-10-25T00:28:38.329278Z"
    }
   },
   "outputs": [],
   "source": [
    "import pandas as pd\n",
    "import numpy as np\n",
    "\n",
    "import sys\n",
    "import re\n",
    "import os\n",
    "project_path = os.getcwd()"
   ]
  },
  {
   "cell_type": "code",
   "execution_count": 2,
   "id": "45c74eef",
   "metadata": {
    "ExecuteTime": {
     "end_time": "2023-10-25T00:28:38.795637Z",
     "start_time": "2023-10-25T00:28:38.782559Z"
    }
   },
   "outputs": [
    {
     "data": {
      "text/plain": [
       "'C:\\\\Users\\\\yysgz\\\\OneDrive - Macquarie University\\\\Desktop\\\\Re-HAN_Model'"
      ]
     },
     "execution_count": 2,
     "metadata": {},
     "output_type": "execute_result"
    }
   ],
   "source": [
    "project_path"
   ]
  },
  {
   "cell_type": "markdown",
   "id": "f0b142f3",
   "metadata": {
    "ExecuteTime": {
     "end_time": "2023-08-23T05:43:23.987202Z",
     "start_time": "2023-08-23T05:43:23.978223Z"
    }
   },
   "source": [
    "## offline detection results statistics"
   ]
  },
  {
   "cell_type": "markdown",
   "id": "c57434a2",
   "metadata": {
    "ExecuteTime": {
     "end_time": "2023-08-23T05:44:11.207823Z",
     "start_time": "2023-08-23T05:44:11.191867Z"
    }
   },
   "source": [
    "### load results"
   ]
  },
  {
   "cell_type": "code",
   "execution_count": 9,
   "id": "21294b51",
   "metadata": {
    "ExecuteTime": {
     "end_time": "2023-10-25T06:00:17.586108Z",
     "start_time": "2023-10-25T06:00:17.573143Z"
    }
   },
   "outputs": [
    {
     "name": "stdout",
     "output_type": "stream",
     "text": [
      "C:\\Users\\yysgz\\OneDrive - Macquarie University\\Desktop\\Re-HAN_Model/results/offline_embeddings_3_days/block_0\n"
     ]
    }
   ],
   "source": [
    "num_days = 3\n",
    "num_block = 0\n",
    "data_path = project_path + '/results/offline_embeddings_' + str(num_days) + '_days/block_' + str(num_block)\n",
    "save_path = project_path + '/results/offline_embeddings_' + str(num_days) + '_days'\n",
    "print(data_path)"
   ]
  },
  {
   "cell_type": "markdown",
   "id": "34029447",
   "metadata": {
    "ExecuteTime": {
     "end_time": "2023-08-23T05:49:10.676730Z",
     "start_time": "2023-08-23T05:49:10.667762Z"
    }
   },
   "source": [
    "### extract model results"
   ]
  },
  {
   "cell_type": "code",
   "execution_count": 10,
   "id": "bc9aa454",
   "metadata": {
    "ExecuteTime": {
     "end_time": "2023-10-25T06:00:18.620292Z",
     "start_time": "2023-10-25T06:00:18.601344Z"
    }
   },
   "outputs": [],
   "source": [
    "metrics_list = ['NMI', 'AMI', 'ARI', 'NMI_std', 'AMI_std', 'ARI_std']\n",
    "model_list = ['LDA', 'BERT', 'HAN', 'PPGCN', 'KPGNN', 'FinEvent', 'GraphFormer', 'ReDHANr', 'ReDHANc', 'ReDHAN']"
   ]
  },
  {
   "cell_type": "code",
   "execution_count": 11,
   "id": "e186f098",
   "metadata": {
    "ExecuteTime": {
     "end_time": "2023-10-25T06:00:19.197075Z",
     "start_time": "2023-10-25T06:00:19.075769Z"
    }
   },
   "outputs": [
    {
     "name": "stdout",
     "output_type": "stream",
     "text": [
      "LDA\n",
      "C:\\Users\\yysgz\\OneDrive - Macquarie University\\Desktop\\Re-HAN_Model/results/offline_embeddings_3_days/block_0/LDA/evaluate.txt\n",
      "    LDA_NMI   LDA_AMI   LDA_ARI\n",
      "0  0.598624  0.454141  0.123519\n",
      "1  0.602015  0.459751  0.144775\n",
      "2  0.586095  0.433543  0.106723\n",
      "3  0.571665  0.411149  0.085394\n",
      "4  0.605369  0.460438  0.166197\n",
      "BERT\n",
      "C:\\Users\\yysgz\\OneDrive - Macquarie University\\Desktop\\Re-HAN_Model/results/offline_embeddings_3_days/block_0/BERT/evaluate.txt\n",
      "   BERT_NMI  BERT_AMI  BERT_ARI\n",
      "0  0.540957  0.359260  0.091147\n",
      "1  0.535550  0.363207  0.111593\n",
      "2  0.555434  0.371146  0.112297\n",
      "3  0.515650  0.322496  0.093706\n",
      "4  0.512793  0.319776  0.082719\n",
      "HAN\n",
      "C:\\Users\\yysgz\\OneDrive - Macquarie University\\Desktop\\Re-HAN_Model/results/offline_embeddings_3_days/block_0/HAN/evaluate.txt\n",
      "    HAN_NMI   HAN_AMI   HAN_ARI\n",
      "0  0.757401  0.665398  0.508316\n",
      "1  0.753550  0.663823  0.490169\n",
      "2  0.759825  0.673934  0.432312\n",
      "3  0.757378  0.672696  0.418619\n",
      "4  0.746204  0.653858  0.429798\n",
      "PPGCN\n",
      "C:\\Users\\yysgz\\OneDrive - Macquarie University\\Desktop\\Re-HAN_Model/results/offline_embeddings_3_days/block_0/PPGCN/evaluate.txt\n",
      "   PPGCN_NMI  PPGCN_AMI  PPGCN_ARI\n",
      "0   0.629963   0.517673   0.755758\n",
      "1   0.687301   0.581884   0.759821\n",
      "2   0.641320   0.526629   0.758551\n",
      "3   0.592751   0.481603   0.740055\n",
      "4   0.631872   0.527449   0.775346\n",
      "KPGNN\n",
      "C:\\Users\\yysgz\\OneDrive - Macquarie University\\Desktop\\Re-HAN_Model/results/offline_embeddings_3_days/block_0/KPGNN/evaluate.txt\n",
      "   KPGNN_NMI  KPGNN_AMI  KPGNN_ARI\n",
      "0   0.761737   0.668128   0.236222\n",
      "1   0.769111   0.682390   0.281182\n",
      "2   0.747819   0.652555   0.259225\n",
      "3   0.764270   0.677124   0.327169\n",
      "4   0.765964   0.677791   0.270577\n",
      "FinEvent\n",
      "C:\\Users\\yysgz\\OneDrive - Macquarie University\\Desktop\\Re-HAN_Model/results/offline_embeddings_3_days/block_0/FinEvent/evaluate.txt\n",
      "   FinEvent_NMI  FinEvent_AMI  FinEvent_ARI\n",
      "0      0.793344      0.717294      0.392787\n",
      "1      0.808190      0.734544      0.418253\n",
      "2      0.764545      0.673940      0.357878\n",
      "3      0.796877      0.718036      0.361112\n",
      "4      0.776926      0.692795      0.300774\n",
      "GraphFormer\n",
      "C:\\Users\\yysgz\\OneDrive - Macquarie University\\Desktop\\Re-HAN_Model/results/offline_embeddings_3_days/block_0/GraphFormer/evaluate.txt\n",
      "   GraphFormer_NMI  GraphFormer_AMI  GraphFormer_ARI\n",
      "0         0.740429         0.638443         0.426503\n",
      "1         0.761882         0.675385         0.552086\n",
      "2         0.736590         0.635975         0.418067\n",
      "3         0.694714         0.576591         0.411540\n",
      "4         0.723984         0.619950         0.345016\n",
      "ReDHANr\n",
      "C:\\Users\\yysgz\\OneDrive - Macquarie University\\Desktop\\Re-HAN_Model/results/offline_embeddings_3_days/block_0/ReDHANr/evaluate.txt\n",
      "   ReDHANr_NMI  ReDHANr_AMI  ReDHANr_ARI\n",
      "0     0.803281     0.733487     0.719824\n",
      "1     0.786646     0.707979     0.806004\n",
      "2     0.733776     0.637184     0.606344\n",
      "3     0.777499     0.696878     0.819561\n",
      "4     0.780651     0.703143     0.688414\n",
      "ReDHANc\n",
      "C:\\Users\\yysgz\\OneDrive - Macquarie University\\Desktop\\Re-HAN_Model/results/offline_embeddings_3_days/block_0/ReDHANc/evaluate.txt\n",
      "   ReDHANc_NMI  ReDHANc_AMI  ReDHANc_ARI\n",
      "0     0.733489     0.633377     0.529713\n",
      "1     0.766420     0.681090     0.864728\n",
      "2     0.733381     0.630937     0.715537\n",
      "3     0.762830     0.677438     0.863602\n",
      "4     0.759424     0.670534     0.590783\n",
      "ReDHAN\n",
      "C:\\Users\\yysgz\\OneDrive - Macquarie University\\Desktop\\Re-HAN_Model/results/offline_embeddings_3_days/block_0/ReDHAN/evaluate.txt\n",
      "   ReDHAN_NMI  ReDHAN_AMI  ReDHAN_ARI\n",
      "0    0.787212    0.702213    0.856895\n",
      "1    0.810374    0.741549    0.824068\n",
      "2    0.800468    0.724825    0.832457\n",
      "3    0.789037    0.712262    0.789361\n",
      "4    0.788566    0.713579    0.846916\n"
     ]
    }
   ],
   "source": [
    "df = pd.DataFrame(index=model_list, columns=metrics_list)\n",
    "df_origin = pd.DataFrame()\n",
    "for i in range(len(model_list)):\n",
    "    model_name = model_list[i]\n",
    "    print(model_name)\n",
    "    result_path = data_path + '/' + model_name + '/evaluate.txt'\n",
    "#     print(result_path)\n",
    "    if not os.path.exists(result_path):\n",
    "        continue\n",
    "    else:\n",
    "        print(result_path)\n",
    "    NMI_list = []\n",
    "    AMI_list = []\n",
    "    ARI_list = []\n",
    "    with open(result_path, 'r') as f:\n",
    "        for line in f.readlines():\n",
    "#             if num_block == 0:\n",
    "            if re.match(r'(test NMI:)', line.strip('\\t'), re.IGNORECASE):\n",
    "                nmi_value = line.split(':')[-1].strip()\n",
    "                NMI_list.append(float(nmi_value))\n",
    "#                 NMI_list.append('%.3f'%float(nmi_value))\n",
    "            elif re.match(r'test AMI:', line.strip('\\t'), re.IGNORECASE):  # 正则不区分大小写\n",
    "                ami_value = line.split(':')[-1].strip()\n",
    "                AMI_list.append(float(ami_value))\n",
    "#                 AMI_list.append('%.3f'%float(ami_value))\n",
    "            elif re.match(r'(test ARI:)', line.strip('\\t'), re.IGNORECASE):\n",
    "                ari_value = line.split(':')[-1].strip()\n",
    "                ARI_list.append(float(ari_value))\n",
    "    #                 ARI_list.append('%.3f'%float(ari_value))\n",
    "#             else:\n",
    "#                 if re.match(r'(detection NMI:)', line.strip('\\t'), re.IGNORECASE):\n",
    "#                     nmi_value = line.split(':')[-1].strip()\n",
    "#                     NMI_list.append(float(nmi_value))\n",
    "#     #                 NMI_list.append('%.3f'%float(nmi_value))\n",
    "#                 elif re.match(r'detection AMI:', line.strip('\\t'), re.IGNORECASE):  # 正则不区分大小写\n",
    "#                     ami_value = line.split(':')[-1].strip()\n",
    "#                     AMI_list.append(float(ami_value))\n",
    "#     #                 AMI_list.append('%.3f'%float(ami_value))\n",
    "#                 elif re.match(r'(detection ARI:)', line.strip('\\t'), re.IGNORECASE):\n",
    "#                     ari_value = line.split(':')[-1].strip()\n",
    "#                     ARI_list.append(float(ari_value))\n",
    "# #    #             ARI_list.append('%.3f'%float(ari_value))\n",
    "\n",
    "\n",
    "#     print(NMI_list)\n",
    "#     if len(NMI_list) != 5:\n",
    "#         print(\"model results exceeds 5\")\n",
    "#         sys.exit()\n",
    "    # write in result data\n",
    "    df_model = pd.DataFrame(data={model_name + '_NMI':NMI_list,\n",
    "                                model_name + '_AMI':AMI_list,\n",
    "                                model_name + '_ARI':ARI_list})\n",
    "    print(df_model)\n",
    "    df_origin = pd.concat([df_origin, df_model], axis=1)\n",
    "    df.loc[model_name, 'NMI'] = '%.3f'%np.mean(NMI_list)\n",
    "    df.loc[model_name, 'AMI'] = '%.3f'%np.mean(AMI_list)\n",
    "    df.loc[model_name, 'ARI'] = '%.3f'%np.mean(ARI_list)\n",
    "    df.loc[model_name, 'NMI_std'] = '%.3f'%np.std(NMI_list)\n",
    "    df.loc[model_name, 'AMI_std'] = '%.3f'%np.std(AMI_list)\n",
    "    df.loc[model_name, 'ARI_std'] = '%.3f'%np.std(ARI_list)"
   ]
  },
  {
   "cell_type": "code",
   "execution_count": 12,
   "id": "a0f80633",
   "metadata": {
    "ExecuteTime": {
     "end_time": "2023-10-25T06:00:19.771183Z",
     "start_time": "2023-10-25T06:00:19.757219Z"
    }
   },
   "outputs": [
    {
     "data": {
      "text/html": [
       "<div>\n",
       "<style scoped>\n",
       "    .dataframe tbody tr th:only-of-type {\n",
       "        vertical-align: middle;\n",
       "    }\n",
       "\n",
       "    .dataframe tbody tr th {\n",
       "        vertical-align: top;\n",
       "    }\n",
       "\n",
       "    .dataframe thead th {\n",
       "        text-align: right;\n",
       "    }\n",
       "</style>\n",
       "<table border=\"1\" class=\"dataframe\">\n",
       "  <thead>\n",
       "    <tr style=\"text-align: right;\">\n",
       "      <th></th>\n",
       "      <th>NMI</th>\n",
       "      <th>AMI</th>\n",
       "      <th>ARI</th>\n",
       "      <th>NMI_std</th>\n",
       "      <th>AMI_std</th>\n",
       "      <th>ARI_std</th>\n",
       "    </tr>\n",
       "  </thead>\n",
       "  <tbody>\n",
       "    <tr>\n",
       "      <th>LDA</th>\n",
       "      <td>0.593</td>\n",
       "      <td>0.444</td>\n",
       "      <td>0.125</td>\n",
       "      <td>0.012</td>\n",
       "      <td>0.019</td>\n",
       "      <td>0.028</td>\n",
       "    </tr>\n",
       "    <tr>\n",
       "      <th>BERT</th>\n",
       "      <td>0.532</td>\n",
       "      <td>0.347</td>\n",
       "      <td>0.098</td>\n",
       "      <td>0.016</td>\n",
       "      <td>0.022</td>\n",
       "      <td>0.012</td>\n",
       "    </tr>\n",
       "    <tr>\n",
       "      <th>HAN</th>\n",
       "      <td>0.755</td>\n",
       "      <td>0.666</td>\n",
       "      <td>0.456</td>\n",
       "      <td>0.005</td>\n",
       "      <td>0.007</td>\n",
       "      <td>0.036</td>\n",
       "    </tr>\n",
       "    <tr>\n",
       "      <th>PPGCN</th>\n",
       "      <td>0.637</td>\n",
       "      <td>0.527</td>\n",
       "      <td>0.758</td>\n",
       "      <td>0.030</td>\n",
       "      <td>0.032</td>\n",
       "      <td>0.011</td>\n",
       "    </tr>\n",
       "    <tr>\n",
       "      <th>KPGNN</th>\n",
       "      <td>0.762</td>\n",
       "      <td>0.672</td>\n",
       "      <td>0.275</td>\n",
       "      <td>0.007</td>\n",
       "      <td>0.011</td>\n",
       "      <td>0.030</td>\n",
       "    </tr>\n",
       "    <tr>\n",
       "      <th>FinEvent</th>\n",
       "      <td>0.788</td>\n",
       "      <td>0.707</td>\n",
       "      <td>0.366</td>\n",
       "      <td>0.015</td>\n",
       "      <td>0.021</td>\n",
       "      <td>0.039</td>\n",
       "    </tr>\n",
       "    <tr>\n",
       "      <th>GraphFormer</th>\n",
       "      <td>0.732</td>\n",
       "      <td>0.629</td>\n",
       "      <td>0.431</td>\n",
       "      <td>0.022</td>\n",
       "      <td>0.032</td>\n",
       "      <td>0.067</td>\n",
       "    </tr>\n",
       "    <tr>\n",
       "      <th>ReDHANr</th>\n",
       "      <td>0.776</td>\n",
       "      <td>0.696</td>\n",
       "      <td>0.728</td>\n",
       "      <td>0.023</td>\n",
       "      <td>0.032</td>\n",
       "      <td>0.079</td>\n",
       "    </tr>\n",
       "    <tr>\n",
       "      <th>ReDHANc</th>\n",
       "      <td>0.751</td>\n",
       "      <td>0.659</td>\n",
       "      <td>0.713</td>\n",
       "      <td>0.015</td>\n",
       "      <td>0.022</td>\n",
       "      <td>0.137</td>\n",
       "    </tr>\n",
       "    <tr>\n",
       "      <th>ReDHAN</th>\n",
       "      <td>0.795</td>\n",
       "      <td>0.719</td>\n",
       "      <td>0.830</td>\n",
       "      <td>0.009</td>\n",
       "      <td>0.013</td>\n",
       "      <td>0.023</td>\n",
       "    </tr>\n",
       "  </tbody>\n",
       "</table>\n",
       "</div>"
      ],
      "text/plain": [
       "               NMI    AMI    ARI NMI_std AMI_std ARI_std\n",
       "LDA          0.593  0.444  0.125   0.012   0.019   0.028\n",
       "BERT         0.532  0.347  0.098   0.016   0.022   0.012\n",
       "HAN          0.755  0.666  0.456   0.005   0.007   0.036\n",
       "PPGCN        0.637  0.527  0.758   0.030   0.032   0.011\n",
       "KPGNN        0.762  0.672  0.275   0.007   0.011   0.030\n",
       "FinEvent     0.788  0.707  0.366   0.015   0.021   0.039\n",
       "GraphFormer  0.732  0.629  0.431   0.022   0.032   0.067\n",
       "ReDHANr      0.776  0.696  0.728   0.023   0.032   0.079\n",
       "ReDHANc      0.751  0.659  0.713   0.015   0.022   0.137\n",
       "ReDHAN       0.795  0.719  0.830   0.009   0.013   0.023"
      ]
     },
     "execution_count": 12,
     "metadata": {},
     "output_type": "execute_result"
    }
   ],
   "source": [
    "df"
   ]
  },
  {
   "cell_type": "code",
   "execution_count": 13,
   "id": "761ec71d",
   "metadata": {
    "ExecuteTime": {
     "end_time": "2023-10-25T06:00:22.350230Z",
     "start_time": "2023-10-25T06:00:22.327749Z"
    }
   },
   "outputs": [
    {
     "data": {
      "text/html": [
       "<div>\n",
       "<style scoped>\n",
       "    .dataframe tbody tr th:only-of-type {\n",
       "        vertical-align: middle;\n",
       "    }\n",
       "\n",
       "    .dataframe tbody tr th {\n",
       "        vertical-align: top;\n",
       "    }\n",
       "\n",
       "    .dataframe thead th {\n",
       "        text-align: right;\n",
       "    }\n",
       "</style>\n",
       "<table border=\"1\" class=\"dataframe\">\n",
       "  <thead>\n",
       "    <tr style=\"text-align: right;\">\n",
       "      <th></th>\n",
       "      <th>LDA_NMI</th>\n",
       "      <th>LDA_AMI</th>\n",
       "      <th>LDA_ARI</th>\n",
       "      <th>BERT_NMI</th>\n",
       "      <th>BERT_AMI</th>\n",
       "      <th>BERT_ARI</th>\n",
       "      <th>HAN_NMI</th>\n",
       "      <th>HAN_AMI</th>\n",
       "      <th>HAN_ARI</th>\n",
       "      <th>PPGCN_NMI</th>\n",
       "      <th>...</th>\n",
       "      <th>GraphFormer_ARI</th>\n",
       "      <th>ReDHANr_NMI</th>\n",
       "      <th>ReDHANr_AMI</th>\n",
       "      <th>ReDHANr_ARI</th>\n",
       "      <th>ReDHANc_NMI</th>\n",
       "      <th>ReDHANc_AMI</th>\n",
       "      <th>ReDHANc_ARI</th>\n",
       "      <th>ReDHAN_NMI</th>\n",
       "      <th>ReDHAN_AMI</th>\n",
       "      <th>ReDHAN_ARI</th>\n",
       "    </tr>\n",
       "  </thead>\n",
       "  <tbody>\n",
       "    <tr>\n",
       "      <th>0</th>\n",
       "      <td>0.598624</td>\n",
       "      <td>0.454141</td>\n",
       "      <td>0.123519</td>\n",
       "      <td>0.540957</td>\n",
       "      <td>0.359260</td>\n",
       "      <td>0.091147</td>\n",
       "      <td>0.757401</td>\n",
       "      <td>0.665398</td>\n",
       "      <td>0.508316</td>\n",
       "      <td>0.629963</td>\n",
       "      <td>...</td>\n",
       "      <td>0.426503</td>\n",
       "      <td>0.803281</td>\n",
       "      <td>0.733487</td>\n",
       "      <td>0.719824</td>\n",
       "      <td>0.733489</td>\n",
       "      <td>0.633377</td>\n",
       "      <td>0.529713</td>\n",
       "      <td>0.787212</td>\n",
       "      <td>0.702213</td>\n",
       "      <td>0.856895</td>\n",
       "    </tr>\n",
       "    <tr>\n",
       "      <th>1</th>\n",
       "      <td>0.602015</td>\n",
       "      <td>0.459751</td>\n",
       "      <td>0.144775</td>\n",
       "      <td>0.535550</td>\n",
       "      <td>0.363207</td>\n",
       "      <td>0.111593</td>\n",
       "      <td>0.753550</td>\n",
       "      <td>0.663823</td>\n",
       "      <td>0.490169</td>\n",
       "      <td>0.687301</td>\n",
       "      <td>...</td>\n",
       "      <td>0.552086</td>\n",
       "      <td>0.786646</td>\n",
       "      <td>0.707979</td>\n",
       "      <td>0.806004</td>\n",
       "      <td>0.766420</td>\n",
       "      <td>0.681090</td>\n",
       "      <td>0.864728</td>\n",
       "      <td>0.810374</td>\n",
       "      <td>0.741549</td>\n",
       "      <td>0.824068</td>\n",
       "    </tr>\n",
       "    <tr>\n",
       "      <th>2</th>\n",
       "      <td>0.586095</td>\n",
       "      <td>0.433543</td>\n",
       "      <td>0.106723</td>\n",
       "      <td>0.555434</td>\n",
       "      <td>0.371146</td>\n",
       "      <td>0.112297</td>\n",
       "      <td>0.759825</td>\n",
       "      <td>0.673934</td>\n",
       "      <td>0.432312</td>\n",
       "      <td>0.641320</td>\n",
       "      <td>...</td>\n",
       "      <td>0.418067</td>\n",
       "      <td>0.733776</td>\n",
       "      <td>0.637184</td>\n",
       "      <td>0.606344</td>\n",
       "      <td>0.733381</td>\n",
       "      <td>0.630937</td>\n",
       "      <td>0.715537</td>\n",
       "      <td>0.800468</td>\n",
       "      <td>0.724825</td>\n",
       "      <td>0.832457</td>\n",
       "    </tr>\n",
       "    <tr>\n",
       "      <th>3</th>\n",
       "      <td>0.571665</td>\n",
       "      <td>0.411149</td>\n",
       "      <td>0.085394</td>\n",
       "      <td>0.515650</td>\n",
       "      <td>0.322496</td>\n",
       "      <td>0.093706</td>\n",
       "      <td>0.757378</td>\n",
       "      <td>0.672696</td>\n",
       "      <td>0.418619</td>\n",
       "      <td>0.592751</td>\n",
       "      <td>...</td>\n",
       "      <td>0.411540</td>\n",
       "      <td>0.777499</td>\n",
       "      <td>0.696878</td>\n",
       "      <td>0.819561</td>\n",
       "      <td>0.762830</td>\n",
       "      <td>0.677438</td>\n",
       "      <td>0.863602</td>\n",
       "      <td>0.789037</td>\n",
       "      <td>0.712262</td>\n",
       "      <td>0.789361</td>\n",
       "    </tr>\n",
       "    <tr>\n",
       "      <th>4</th>\n",
       "      <td>0.605369</td>\n",
       "      <td>0.460438</td>\n",
       "      <td>0.166197</td>\n",
       "      <td>0.512793</td>\n",
       "      <td>0.319776</td>\n",
       "      <td>0.082719</td>\n",
       "      <td>0.746204</td>\n",
       "      <td>0.653858</td>\n",
       "      <td>0.429798</td>\n",
       "      <td>0.631872</td>\n",
       "      <td>...</td>\n",
       "      <td>0.345016</td>\n",
       "      <td>0.780651</td>\n",
       "      <td>0.703143</td>\n",
       "      <td>0.688414</td>\n",
       "      <td>0.759424</td>\n",
       "      <td>0.670534</td>\n",
       "      <td>0.590783</td>\n",
       "      <td>0.788566</td>\n",
       "      <td>0.713579</td>\n",
       "      <td>0.846916</td>\n",
       "    </tr>\n",
       "  </tbody>\n",
       "</table>\n",
       "<p>5 rows × 30 columns</p>\n",
       "</div>"
      ],
      "text/plain": [
       "    LDA_NMI   LDA_AMI   LDA_ARI  BERT_NMI  BERT_AMI  BERT_ARI   HAN_NMI  \\\n",
       "0  0.598624  0.454141  0.123519  0.540957  0.359260  0.091147  0.757401   \n",
       "1  0.602015  0.459751  0.144775  0.535550  0.363207  0.111593  0.753550   \n",
       "2  0.586095  0.433543  0.106723  0.555434  0.371146  0.112297  0.759825   \n",
       "3  0.571665  0.411149  0.085394  0.515650  0.322496  0.093706  0.757378   \n",
       "4  0.605369  0.460438  0.166197  0.512793  0.319776  0.082719  0.746204   \n",
       "\n",
       "    HAN_AMI   HAN_ARI  PPGCN_NMI  ...  GraphFormer_ARI  ReDHANr_NMI  \\\n",
       "0  0.665398  0.508316   0.629963  ...         0.426503     0.803281   \n",
       "1  0.663823  0.490169   0.687301  ...         0.552086     0.786646   \n",
       "2  0.673934  0.432312   0.641320  ...         0.418067     0.733776   \n",
       "3  0.672696  0.418619   0.592751  ...         0.411540     0.777499   \n",
       "4  0.653858  0.429798   0.631872  ...         0.345016     0.780651   \n",
       "\n",
       "   ReDHANr_AMI  ReDHANr_ARI  ReDHANc_NMI  ReDHANc_AMI  ReDHANc_ARI  \\\n",
       "0     0.733487     0.719824     0.733489     0.633377     0.529713   \n",
       "1     0.707979     0.806004     0.766420     0.681090     0.864728   \n",
       "2     0.637184     0.606344     0.733381     0.630937     0.715537   \n",
       "3     0.696878     0.819561     0.762830     0.677438     0.863602   \n",
       "4     0.703143     0.688414     0.759424     0.670534     0.590783   \n",
       "\n",
       "   ReDHAN_NMI  ReDHAN_AMI  ReDHAN_ARI  \n",
       "0    0.787212    0.702213    0.856895  \n",
       "1    0.810374    0.741549    0.824068  \n",
       "2    0.800468    0.724825    0.832457  \n",
       "3    0.789037    0.712262    0.789361  \n",
       "4    0.788566    0.713579    0.846916  \n",
       "\n",
       "[5 rows x 30 columns]"
      ]
     },
     "execution_count": 13,
     "metadata": {},
     "output_type": "execute_result"
    }
   ],
   "source": [
    "df_origin"
   ]
  },
  {
   "cell_type": "code",
   "execution_count": 14,
   "id": "d88c4655",
   "metadata": {
    "ExecuteTime": {
     "end_time": "2023-10-25T06:00:23.028202Z",
     "start_time": "2023-10-25T06:00:22.953112Z"
    }
   },
   "outputs": [
    {
     "name": "stderr",
     "output_type": "stream",
     "text": [
      "C:\\Users\\yysgz\\AppData\\Local\\Temp\\ipykernel_10828\\612438517.py:4: FutureWarning: save is not part of the public API, usage can give unexpected results and will be removed in a future version\n",
      "  writer.save()\n"
     ]
    }
   ],
   "source": [
    "writer = pd.ExcelWriter(save_path + '/results_statistics'+'_'+str(num_days)+'_days' +'_block_'+ str(num_block) +'.xlsx')\n",
    "df.to_excel(writer, sheet_name = 'Sheet1')\n",
    "df_origin.to_excel(writer, sheet_name='Sheet2', index=True)\n",
    "writer.save()\n",
    "writer.close()"
   ]
  },
  {
   "cell_type": "code",
   "execution_count": 56,
   "id": "b0840642",
   "metadata": {
    "ExecuteTime": {
     "end_time": "2023-10-24T03:33:58.793979Z",
     "start_time": "2023-10-24T03:33:58.789990Z"
    }
   },
   "outputs": [],
   "source": [
    "# df.to_excel(project_path + '/results_statistics'+'_'+str(num_days)+'_days' + '.xlsx', sheet_name='Sheet1')\n",
    "# df_origin.to_excel(project_path + '/results_statistics'+'_'+str(num_days)+'_days' + '.xlsx', sheet_name='Sheet2', index=True)"
   ]
  },
  {
   "cell_type": "code",
   "execution_count": null,
   "id": "41354e5e",
   "metadata": {},
   "outputs": [],
   "source": []
  }
 ],
 "metadata": {
  "kernelspec": {
   "display_name": "Python 3 (ipykernel)",
   "language": "python",
   "name": "python3"
  },
  "language_info": {
   "codemirror_mode": {
    "name": "ipython",
    "version": 3
   },
   "file_extension": ".py",
   "mimetype": "text/x-python",
   "name": "python",
   "nbconvert_exporter": "python",
   "pygments_lexer": "ipython3",
   "version": "3.10.9"
  },
  "toc": {
   "base_numbering": 1,
   "nav_menu": {},
   "number_sections": true,
   "sideBar": true,
   "skip_h1_title": false,
   "title_cell": "Table of Contents",
   "title_sidebar": "Contents",
   "toc_cell": false,
   "toc_position": {
    "height": "calc(100% - 180px)",
    "left": "10px",
    "top": "150px",
    "width": "299.983px"
   },
   "toc_section_display": true,
   "toc_window_display": true
  }
 },
 "nbformat": 4,
 "nbformat_minor": 5
}
